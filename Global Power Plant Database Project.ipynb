{
 "cells": [
  {
   "cell_type": "markdown",
   "id": "9b564e63",
   "metadata": {},
   "source": [
    "# Evaluation Project 4 Global Power Plant Database "
   ]
  },
  {
   "cell_type": "markdown",
   "id": "70ffc817",
   "metadata": {},
   "source": [
    "# Project Description\n",
    "The Global Power Plant Database is a comprehensive, open source database of power plants\n",
    "around the world. It centralizes power plant data to make it easier to navigate, compare and\n",
    "draw insights for one’s own analysis. The database covers approximately 14,000 power plants\n",
    "from 3 countries(USA, AUS, INDIA) and includes thermal plants (e.g. coal, gas, oil, nuclear,\n",
    "biomass, waste, geothermal) and renewables (e.g. hydro, wind, solar). Each power plant is\n",
    "geolocated and entries contain information on plant capacity, generation, ownership, and fuel\n",
    "type. It will be continuously updated as data becomes available.\n",
    "\n",
    "# Key attributes of the database\n",
    "The database includes the following indicators:\n",
    "\n",
    " `country` (text): 3 character country code corresponding to the ISO 3166-1 alpha-3\n",
    "specification [5]\n",
    "\n",
    " `country_long` (text): longer form of the country designation\n",
    "\n",
    " `name` (text): name or title of the power plant, generally in Romanized form\n",
    "\n",
    " `gppd_idnr` (text): 10 or 12 character identifier for the power plant\n",
    "\n",
    " `capacity_mw` (number): electrical generating capacity in megawatts\n",
    "\n",
    " `latitude` (number): geolocation in decimal degrees; WGS84 (EPSG:4326)\n",
    "\n",
    " `longitude` (number): geolocation in decimal degrees; WGS84 (EPSG:4326)\n",
    "\n",
    " `primary_fuel` (text): energy source used in primary electricity generation or export\n",
    "\n",
    " `other_fuel1` (text): energy source used in electricity generation or export\n",
    "\n",
    " `other_fuel2` (text): energy source used in electricity generation or export\n",
    "\n",
    " `other_fuel3` (text): energy source used in electricity generation or export\n",
    "\n",
    "  `commissioning_year` (number): year of plant operation, weighted by unit-capacity\n",
    "when data is available\n",
    "\n",
    " `owner` (text): majority shareholder of the power plant, generally in Romanized form\n",
    "\n",
    " `source` (text): entity reporting the data; could be an organization, report, or document,\n",
    "generally in Romanized form\n",
    "\n",
    " `url` (text): web document corresponding to the `source` field\n",
    "\n",
    " `geolocation_source` (text): attribution for geolocation information\n",
    "\n",
    " `wepp_id` (text): a reference to a unique plant identifier in the widely-used PLATTS-\n",
    "WEPP database.\n",
    "\n",
    " `year_of_capacity_data` (number): year the capacity information was reported\n",
    "\n",
    " `generation_gwh_2013` (number): electricity generation in gigawatt-hours reported for\n",
    "the year 2013\n",
    "\n",
    " `generation_gwh_2014` (number): electricity generation in gigawatt-hours reported for\n",
    "the year 2014\n",
    "\n",
    " `generation_gwh_2015` (number): electricity generation in gigawatt-hours reported for\n",
    "the year 2015\n",
    "\n",
    " `generation_gwh_2016` (number): electricity generation in gigawatt-hours reported for\n",
    "the year 2016\n",
    "\n",
    " `generation_gwh_2017` (number): electricity generation in gigawatt-hours reported for the year 2017\n",
    "\n",
    " `generation_gwh_2018` (number): electricity generation in gigawatt-hours reported for\n",
    "the year 2018\n",
    "\n",
    " `generation_gwh_2019` (number): electricity generation in gigawatt-hours reported for\n",
    "the year 2019\n",
    "\n",
    " `generation_data_source` (text): attribution for the reported generation information\n",
    "\n",
    " `estimated_generation_gwh_2013` (number): estimated electricity generation in\n",
    "gigawatt-hours for the year 2013\n",
    "\n",
    " `estimated_generation_gwh_2014` (number): estimated electricity generation in\n",
    "gigawatt-hours for the year 2014 \n",
    "\n",
    " `estimated_generation_gwh_2015` (number): estimated electricity generation in\n",
    "gigawatt-hours for the year 2015 \n",
    "\n",
    " `estimated_generation_gwh_2016` (number): estimated electricity generation in\n",
    "gigawatt-hours for the year 2016 \n",
    "\n",
    " `estimated_generation_gwh_2017` (number): estimated electricity generation in\n",
    "gigawatt-hours for the year 2017 \n",
    "\n",
    " &#39;estimated_generation_note_2013` (text): label of the model/method used to estimate\n",
    "generation for the year 2013\n",
    "\n",
    " `estimated_generation_note_2014` (text): label of the model/method used to estimate\n",
    "generation for the year 2014 \n",
    "\n",
    " `estimated_generation_note_2015` (text): label of the model/method used to estimate generation for the year 2015\n",
    " `estimated_generation_note_2016` (text): label of the model/method used to estimate\n",
    "generation for the year 2016\n",
    "\n",
    " `estimated_generation_note_2017` (text): label of the model/method used to estimate\n",
    "generation for the year 2017 \n",
    "\n",
    "Fuel Type Aggregation\n",
    "\n",
    "We define the &quot;Fuel Type&quot; attribute of our database based on common fuel categories. \n",
    "\n",
    "### Prediction :   Make two prediction  1) Primary Fuel    2) capacity_mw\n"
   ]
  },
  {
   "cell_type": "markdown",
   "id": "e475efa9",
   "metadata": {},
   "source": [
    "### Importing  reguire libraries \n"
   ]
  },
  {
   "cell_type": "code",
   "execution_count": 1,
   "id": "f4d8f13b",
   "metadata": {},
   "outputs": [],
   "source": [
    "import pandas as pd \n",
    "import numpy as np \n",
    "import seaborn as sns \n",
    "import matplotlib.pyplot as plt\n",
    "%matplotlib inline\n",
    "import warnings\n",
    "warnings.filterwarnings('ignore')\n"
   ]
  },
  {
   "cell_type": "code",
   "execution_count": 2,
   "id": "7a38bce5",
   "metadata": {},
   "outputs": [
    {
     "data": {
      "text/html": [
       "<div>\n",
       "<style scoped>\n",
       "    .dataframe tbody tr th:only-of-type {\n",
       "        vertical-align: middle;\n",
       "    }\n",
       "\n",
       "    .dataframe tbody tr th {\n",
       "        vertical-align: top;\n",
       "    }\n",
       "\n",
       "    .dataframe thead th {\n",
       "        text-align: right;\n",
       "    }\n",
       "</style>\n",
       "<table border=\"1\" class=\"dataframe\">\n",
       "  <thead>\n",
       "    <tr style=\"text-align: right;\">\n",
       "      <th></th>\n",
       "      <th>country</th>\n",
       "      <th>country_long</th>\n",
       "      <th>name</th>\n",
       "      <th>gppd_idnr</th>\n",
       "      <th>capacity_mw</th>\n",
       "      <th>latitude</th>\n",
       "      <th>longitude</th>\n",
       "      <th>primary_fuel</th>\n",
       "      <th>other_fuel1</th>\n",
       "      <th>other_fuel2</th>\n",
       "      <th>...</th>\n",
       "      <th>year_of_capacity_data</th>\n",
       "      <th>generation_gwh_2013</th>\n",
       "      <th>generation_gwh_2014</th>\n",
       "      <th>generation_gwh_2015</th>\n",
       "      <th>generation_gwh_2016</th>\n",
       "      <th>generation_gwh_2017</th>\n",
       "      <th>generation_gwh_2018</th>\n",
       "      <th>generation_gwh_2019</th>\n",
       "      <th>generation_data_source</th>\n",
       "      <th>estimated_generation_gwh</th>\n",
       "    </tr>\n",
       "  </thead>\n",
       "  <tbody>\n",
       "    <tr>\n",
       "      <th>0</th>\n",
       "      <td>IND</td>\n",
       "      <td>India</td>\n",
       "      <td>ACME Solar Tower</td>\n",
       "      <td>WRI1020239</td>\n",
       "      <td>2.5</td>\n",
       "      <td>28.1839</td>\n",
       "      <td>73.2407</td>\n",
       "      <td>Solar</td>\n",
       "      <td>NaN</td>\n",
       "      <td>NaN</td>\n",
       "      <td>...</td>\n",
       "      <td>NaN</td>\n",
       "      <td>NaN</td>\n",
       "      <td>NaN</td>\n",
       "      <td>NaN</td>\n",
       "      <td>NaN</td>\n",
       "      <td>NaN</td>\n",
       "      <td>NaN</td>\n",
       "      <td>NaN</td>\n",
       "      <td>NaN</td>\n",
       "      <td>NaN</td>\n",
       "    </tr>\n",
       "    <tr>\n",
       "      <th>1</th>\n",
       "      <td>IND</td>\n",
       "      <td>India</td>\n",
       "      <td>ADITYA CEMENT WORKS</td>\n",
       "      <td>WRI1019881</td>\n",
       "      <td>98.0</td>\n",
       "      <td>24.7663</td>\n",
       "      <td>74.6090</td>\n",
       "      <td>Coal</td>\n",
       "      <td>NaN</td>\n",
       "      <td>NaN</td>\n",
       "      <td>...</td>\n",
       "      <td>NaN</td>\n",
       "      <td>NaN</td>\n",
       "      <td>NaN</td>\n",
       "      <td>NaN</td>\n",
       "      <td>NaN</td>\n",
       "      <td>NaN</td>\n",
       "      <td>NaN</td>\n",
       "      <td>NaN</td>\n",
       "      <td>NaN</td>\n",
       "      <td>NaN</td>\n",
       "    </tr>\n",
       "    <tr>\n",
       "      <th>2</th>\n",
       "      <td>IND</td>\n",
       "      <td>India</td>\n",
       "      <td>AES Saurashtra Windfarms</td>\n",
       "      <td>WRI1026669</td>\n",
       "      <td>39.2</td>\n",
       "      <td>21.9038</td>\n",
       "      <td>69.3732</td>\n",
       "      <td>Wind</td>\n",
       "      <td>NaN</td>\n",
       "      <td>NaN</td>\n",
       "      <td>...</td>\n",
       "      <td>NaN</td>\n",
       "      <td>NaN</td>\n",
       "      <td>NaN</td>\n",
       "      <td>NaN</td>\n",
       "      <td>NaN</td>\n",
       "      <td>NaN</td>\n",
       "      <td>NaN</td>\n",
       "      <td>NaN</td>\n",
       "      <td>NaN</td>\n",
       "      <td>NaN</td>\n",
       "    </tr>\n",
       "    <tr>\n",
       "      <th>3</th>\n",
       "      <td>IND</td>\n",
       "      <td>India</td>\n",
       "      <td>AGARTALA GT</td>\n",
       "      <td>IND0000001</td>\n",
       "      <td>135.0</td>\n",
       "      <td>23.8712</td>\n",
       "      <td>91.3602</td>\n",
       "      <td>Gas</td>\n",
       "      <td>NaN</td>\n",
       "      <td>NaN</td>\n",
       "      <td>...</td>\n",
       "      <td>2019.0</td>\n",
       "      <td>2.41461</td>\n",
       "      <td>617.789264</td>\n",
       "      <td>843.747000</td>\n",
       "      <td>886.004428</td>\n",
       "      <td>663.774500</td>\n",
       "      <td>626.239128</td>\n",
       "      <td>NaN</td>\n",
       "      <td>Central Electricity Authority</td>\n",
       "      <td>NaN</td>\n",
       "    </tr>\n",
       "    <tr>\n",
       "      <th>4</th>\n",
       "      <td>IND</td>\n",
       "      <td>India</td>\n",
       "      <td>AKALTARA TPP</td>\n",
       "      <td>IND0000002</td>\n",
       "      <td>1800.0</td>\n",
       "      <td>21.9603</td>\n",
       "      <td>82.4091</td>\n",
       "      <td>Coal</td>\n",
       "      <td>Oil</td>\n",
       "      <td>NaN</td>\n",
       "      <td>...</td>\n",
       "      <td>2019.0</td>\n",
       "      <td>NaN</td>\n",
       "      <td>3035.550000</td>\n",
       "      <td>5916.370000</td>\n",
       "      <td>6243.000000</td>\n",
       "      <td>5385.579736</td>\n",
       "      <td>7279.000000</td>\n",
       "      <td>NaN</td>\n",
       "      <td>Central Electricity Authority</td>\n",
       "      <td>NaN</td>\n",
       "    </tr>\n",
       "    <tr>\n",
       "      <th>...</th>\n",
       "      <td>...</td>\n",
       "      <td>...</td>\n",
       "      <td>...</td>\n",
       "      <td>...</td>\n",
       "      <td>...</td>\n",
       "      <td>...</td>\n",
       "      <td>...</td>\n",
       "      <td>...</td>\n",
       "      <td>...</td>\n",
       "      <td>...</td>\n",
       "      <td>...</td>\n",
       "      <td>...</td>\n",
       "      <td>...</td>\n",
       "      <td>...</td>\n",
       "      <td>...</td>\n",
       "      <td>...</td>\n",
       "      <td>...</td>\n",
       "      <td>...</td>\n",
       "      <td>...</td>\n",
       "      <td>...</td>\n",
       "      <td>...</td>\n",
       "    </tr>\n",
       "    <tr>\n",
       "      <th>902</th>\n",
       "      <td>IND</td>\n",
       "      <td>India</td>\n",
       "      <td>YERMARUS TPP</td>\n",
       "      <td>IND0000513</td>\n",
       "      <td>1600.0</td>\n",
       "      <td>16.2949</td>\n",
       "      <td>77.3568</td>\n",
       "      <td>Coal</td>\n",
       "      <td>Oil</td>\n",
       "      <td>NaN</td>\n",
       "      <td>...</td>\n",
       "      <td>2019.0</td>\n",
       "      <td>NaN</td>\n",
       "      <td>NaN</td>\n",
       "      <td>0.994875</td>\n",
       "      <td>233.596650</td>\n",
       "      <td>865.400000</td>\n",
       "      <td>686.500000</td>\n",
       "      <td>NaN</td>\n",
       "      <td>Central Electricity Authority</td>\n",
       "      <td>NaN</td>\n",
       "    </tr>\n",
       "    <tr>\n",
       "      <th>903</th>\n",
       "      <td>IND</td>\n",
       "      <td>India</td>\n",
       "      <td>Yelesandra Solar Power Plant</td>\n",
       "      <td>WRI1026222</td>\n",
       "      <td>3.0</td>\n",
       "      <td>12.8932</td>\n",
       "      <td>78.1654</td>\n",
       "      <td>Solar</td>\n",
       "      <td>NaN</td>\n",
       "      <td>NaN</td>\n",
       "      <td>...</td>\n",
       "      <td>NaN</td>\n",
       "      <td>1.92500</td>\n",
       "      <td>NaN</td>\n",
       "      <td>NaN</td>\n",
       "      <td>NaN</td>\n",
       "      <td>NaN</td>\n",
       "      <td>NaN</td>\n",
       "      <td>NaN</td>\n",
       "      <td>NaN</td>\n",
       "      <td>NaN</td>\n",
       "    </tr>\n",
       "    <tr>\n",
       "      <th>904</th>\n",
       "      <td>IND</td>\n",
       "      <td>India</td>\n",
       "      <td>Yelisirur wind power project</td>\n",
       "      <td>WRI1026776</td>\n",
       "      <td>25.5</td>\n",
       "      <td>15.2758</td>\n",
       "      <td>75.5811</td>\n",
       "      <td>Wind</td>\n",
       "      <td>NaN</td>\n",
       "      <td>NaN</td>\n",
       "      <td>...</td>\n",
       "      <td>NaN</td>\n",
       "      <td>2.05400</td>\n",
       "      <td>NaN</td>\n",
       "      <td>NaN</td>\n",
       "      <td>NaN</td>\n",
       "      <td>NaN</td>\n",
       "      <td>NaN</td>\n",
       "      <td>NaN</td>\n",
       "      <td>NaN</td>\n",
       "      <td>NaN</td>\n",
       "    </tr>\n",
       "    <tr>\n",
       "      <th>905</th>\n",
       "      <td>IND</td>\n",
       "      <td>India</td>\n",
       "      <td>ZAWAR MINES</td>\n",
       "      <td>WRI1019901</td>\n",
       "      <td>80.0</td>\n",
       "      <td>24.3500</td>\n",
       "      <td>73.7477</td>\n",
       "      <td>Coal</td>\n",
       "      <td>NaN</td>\n",
       "      <td>NaN</td>\n",
       "      <td>...</td>\n",
       "      <td>NaN</td>\n",
       "      <td>NaN</td>\n",
       "      <td>NaN</td>\n",
       "      <td>NaN</td>\n",
       "      <td>NaN</td>\n",
       "      <td>NaN</td>\n",
       "      <td>NaN</td>\n",
       "      <td>NaN</td>\n",
       "      <td>NaN</td>\n",
       "      <td>NaN</td>\n",
       "    </tr>\n",
       "    <tr>\n",
       "      <th>906</th>\n",
       "      <td>IND</td>\n",
       "      <td>India</td>\n",
       "      <td>iEnergy Theni Wind Farm</td>\n",
       "      <td>WRI1026761</td>\n",
       "      <td>16.5</td>\n",
       "      <td>9.9344</td>\n",
       "      <td>77.4768</td>\n",
       "      <td>Wind</td>\n",
       "      <td>NaN</td>\n",
       "      <td>NaN</td>\n",
       "      <td>...</td>\n",
       "      <td>NaN</td>\n",
       "      <td>NaN</td>\n",
       "      <td>NaN</td>\n",
       "      <td>NaN</td>\n",
       "      <td>NaN</td>\n",
       "      <td>NaN</td>\n",
       "      <td>NaN</td>\n",
       "      <td>NaN</td>\n",
       "      <td>NaN</td>\n",
       "      <td>NaN</td>\n",
       "    </tr>\n",
       "  </tbody>\n",
       "</table>\n",
       "<p>907 rows × 27 columns</p>\n",
       "</div>"
      ],
      "text/plain": [
       "    country country_long                          name   gppd_idnr  \\\n",
       "0       IND        India              ACME Solar Tower  WRI1020239   \n",
       "1       IND        India           ADITYA CEMENT WORKS  WRI1019881   \n",
       "2       IND        India      AES Saurashtra Windfarms  WRI1026669   \n",
       "3       IND        India                   AGARTALA GT  IND0000001   \n",
       "4       IND        India                  AKALTARA TPP  IND0000002   \n",
       "..      ...          ...                           ...         ...   \n",
       "902     IND        India                  YERMARUS TPP  IND0000513   \n",
       "903     IND        India  Yelesandra Solar Power Plant  WRI1026222   \n",
       "904     IND        India  Yelisirur wind power project  WRI1026776   \n",
       "905     IND        India                   ZAWAR MINES  WRI1019901   \n",
       "906     IND        India       iEnergy Theni Wind Farm  WRI1026761   \n",
       "\n",
       "     capacity_mw  latitude  longitude primary_fuel other_fuel1 other_fuel2  \\\n",
       "0            2.5   28.1839    73.2407        Solar         NaN         NaN   \n",
       "1           98.0   24.7663    74.6090         Coal         NaN         NaN   \n",
       "2           39.2   21.9038    69.3732         Wind         NaN         NaN   \n",
       "3          135.0   23.8712    91.3602          Gas         NaN         NaN   \n",
       "4         1800.0   21.9603    82.4091         Coal         Oil         NaN   \n",
       "..           ...       ...        ...          ...         ...         ...   \n",
       "902       1600.0   16.2949    77.3568         Coal         Oil         NaN   \n",
       "903          3.0   12.8932    78.1654        Solar         NaN         NaN   \n",
       "904         25.5   15.2758    75.5811         Wind         NaN         NaN   \n",
       "905         80.0   24.3500    73.7477         Coal         NaN         NaN   \n",
       "906         16.5    9.9344    77.4768         Wind         NaN         NaN   \n",
       "\n",
       "     ...  year_of_capacity_data  generation_gwh_2013 generation_gwh_2014  \\\n",
       "0    ...                    NaN                  NaN                 NaN   \n",
       "1    ...                    NaN                  NaN                 NaN   \n",
       "2    ...                    NaN                  NaN                 NaN   \n",
       "3    ...                 2019.0              2.41461          617.789264   \n",
       "4    ...                 2019.0                  NaN         3035.550000   \n",
       "..   ...                    ...                  ...                 ...   \n",
       "902  ...                 2019.0                  NaN                 NaN   \n",
       "903  ...                    NaN              1.92500                 NaN   \n",
       "904  ...                    NaN              2.05400                 NaN   \n",
       "905  ...                    NaN                  NaN                 NaN   \n",
       "906  ...                    NaN                  NaN                 NaN   \n",
       "\n",
       "    generation_gwh_2015 generation_gwh_2016 generation_gwh_2017  \\\n",
       "0                   NaN                 NaN                 NaN   \n",
       "1                   NaN                 NaN                 NaN   \n",
       "2                   NaN                 NaN                 NaN   \n",
       "3            843.747000          886.004428          663.774500   \n",
       "4           5916.370000         6243.000000         5385.579736   \n",
       "..                  ...                 ...                 ...   \n",
       "902            0.994875          233.596650          865.400000   \n",
       "903                 NaN                 NaN                 NaN   \n",
       "904                 NaN                 NaN                 NaN   \n",
       "905                 NaN                 NaN                 NaN   \n",
       "906                 NaN                 NaN                 NaN   \n",
       "\n",
       "     generation_gwh_2018  generation_gwh_2019         generation_data_source  \\\n",
       "0                    NaN                  NaN                            NaN   \n",
       "1                    NaN                  NaN                            NaN   \n",
       "2                    NaN                  NaN                            NaN   \n",
       "3             626.239128                  NaN  Central Electricity Authority   \n",
       "4            7279.000000                  NaN  Central Electricity Authority   \n",
       "..                   ...                  ...                            ...   \n",
       "902           686.500000                  NaN  Central Electricity Authority   \n",
       "903                  NaN                  NaN                            NaN   \n",
       "904                  NaN                  NaN                            NaN   \n",
       "905                  NaN                  NaN                            NaN   \n",
       "906                  NaN                  NaN                            NaN   \n",
       "\n",
       "     estimated_generation_gwh  \n",
       "0                         NaN  \n",
       "1                         NaN  \n",
       "2                         NaN  \n",
       "3                         NaN  \n",
       "4                         NaN  \n",
       "..                        ...  \n",
       "902                       NaN  \n",
       "903                       NaN  \n",
       "904                       NaN  \n",
       "905                       NaN  \n",
       "906                       NaN  \n",
       "\n",
       "[907 rows x 27 columns]"
      ]
     },
     "execution_count": 2,
     "metadata": {},
     "output_type": "execute_result"
    }
   ],
   "source": [
    "df = pd.read_csv('https://raw.githubusercontent.com/FlipRoboTechnologies/ML_-Datasets/main/Global%20Power%20Plant%20Database/database_IND.csv')\n",
    "df"
   ]
  },
  {
   "cell_type": "code",
   "execution_count": 3,
   "id": "3da4eeb0",
   "metadata": {},
   "outputs": [
    {
     "data": {
      "text/plain": [
       "(907, 27)"
      ]
     },
     "execution_count": 3,
     "metadata": {},
     "output_type": "execute_result"
    }
   ],
   "source": [
    "df.shape"
   ]
  },
  {
   "cell_type": "code",
   "execution_count": 4,
   "id": "636af31b",
   "metadata": {},
   "outputs": [
    {
     "name": "stdout",
     "output_type": "stream",
     "text": [
      "<class 'pandas.core.frame.DataFrame'>\n",
      "RangeIndex: 907 entries, 0 to 906\n",
      "Data columns (total 27 columns):\n",
      " #   Column                    Non-Null Count  Dtype  \n",
      "---  ------                    --------------  -----  \n",
      " 0   country                   907 non-null    object \n",
      " 1   country_long              907 non-null    object \n",
      " 2   name                      907 non-null    object \n",
      " 3   gppd_idnr                 907 non-null    object \n",
      " 4   capacity_mw               907 non-null    float64\n",
      " 5   latitude                  861 non-null    float64\n",
      " 6   longitude                 861 non-null    float64\n",
      " 7   primary_fuel              907 non-null    object \n",
      " 8   other_fuel1               198 non-null    object \n",
      " 9   other_fuel2               1 non-null      object \n",
      " 10  other_fuel3               0 non-null      float64\n",
      " 11  commissioning_year        533 non-null    float64\n",
      " 12  owner                     344 non-null    object \n",
      " 13  source                    907 non-null    object \n",
      " 14  url                       907 non-null    object \n",
      " 15  geolocation_source        888 non-null    object \n",
      " 16  wepp_id                   0 non-null      float64\n",
      " 17  year_of_capacity_data     519 non-null    float64\n",
      " 18  generation_gwh_2013       446 non-null    float64\n",
      " 19  generation_gwh_2014       404 non-null    float64\n",
      " 20  generation_gwh_2015       428 non-null    float64\n",
      " 21  generation_gwh_2016       440 non-null    float64\n",
      " 22  generation_gwh_2017       446 non-null    float64\n",
      " 23  generation_gwh_2018       453 non-null    float64\n",
      " 24  generation_gwh_2019       1 non-null      object \n",
      " 25  generation_data_source    454 non-null    object \n",
      " 26  estimated_generation_gwh  0 non-null      float64\n",
      "dtypes: float64(14), object(13)\n",
      "memory usage: 191.4+ KB\n"
     ]
    }
   ],
   "source": [
    "df.info()"
   ]
  },
  {
   "cell_type": "markdown",
   "id": "2e2ddcd3",
   "metadata": {},
   "source": [
    " #### Dataset contain 907 rows and 27 columns\n",
    " #### Some of features are object datatype while others are float type.\n",
    " "
   ]
  },
  {
   "cell_type": "code",
   "execution_count": 5,
   "id": "eb9cb59b",
   "metadata": {},
   "outputs": [
    {
     "data": {
      "text/plain": [
       "country                       0\n",
       "country_long                  0\n",
       "name                          0\n",
       "gppd_idnr                     0\n",
       "capacity_mw                   0\n",
       "latitude                     46\n",
       "longitude                    46\n",
       "primary_fuel                  0\n",
       "other_fuel1                 709\n",
       "other_fuel2                 906\n",
       "other_fuel3                 907\n",
       "commissioning_year          374\n",
       "owner                       563\n",
       "source                        0\n",
       "url                           0\n",
       "geolocation_source           19\n",
       "wepp_id                     907\n",
       "year_of_capacity_data       388\n",
       "generation_gwh_2013         461\n",
       "generation_gwh_2014         503\n",
       "generation_gwh_2015         479\n",
       "generation_gwh_2016         467\n",
       "generation_gwh_2017         461\n",
       "generation_gwh_2018         454\n",
       "generation_gwh_2019         906\n",
       "generation_data_source      453\n",
       "estimated_generation_gwh    907\n",
       "dtype: int64"
      ]
     },
     "execution_count": 5,
     "metadata": {},
     "output_type": "execute_result"
    }
   ],
   "source": [
    "# Data integrity check\n",
    "df.isnull().sum()"
   ]
  },
  {
   "cell_type": "markdown",
   "id": "22e12dff",
   "metadata": {},
   "source": [
    "There are so much values missing in the dataset.\n"
   ]
  },
  {
   "cell_type": "markdown",
   "id": "834bbfd7",
   "metadata": {},
   "source": [
    "### WE are going to drop the columns which has maximum null values because if we are going to fill those data then the prediction will not be correct."
   ]
  },
  {
   "cell_type": "code",
   "execution_count": 6,
   "id": "26402a57",
   "metadata": {},
   "outputs": [
    {
     "data": {
      "text/html": [
       "<div>\n",
       "<style scoped>\n",
       "    .dataframe tbody tr th:only-of-type {\n",
       "        vertical-align: middle;\n",
       "    }\n",
       "\n",
       "    .dataframe tbody tr th {\n",
       "        vertical-align: top;\n",
       "    }\n",
       "\n",
       "    .dataframe thead th {\n",
       "        text-align: right;\n",
       "    }\n",
       "</style>\n",
       "<table border=\"1\" class=\"dataframe\">\n",
       "  <thead>\n",
       "    <tr style=\"text-align: right;\">\n",
       "      <th></th>\n",
       "      <th>country</th>\n",
       "      <th>country_long</th>\n",
       "      <th>name</th>\n",
       "      <th>gppd_idnr</th>\n",
       "      <th>capacity_mw</th>\n",
       "      <th>latitude</th>\n",
       "      <th>longitude</th>\n",
       "      <th>primary_fuel</th>\n",
       "      <th>commissioning_year</th>\n",
       "      <th>owner</th>\n",
       "      <th>...</th>\n",
       "      <th>url</th>\n",
       "      <th>geolocation_source</th>\n",
       "      <th>year_of_capacity_data</th>\n",
       "      <th>generation_gwh_2013</th>\n",
       "      <th>generation_gwh_2014</th>\n",
       "      <th>generation_gwh_2015</th>\n",
       "      <th>generation_gwh_2016</th>\n",
       "      <th>generation_gwh_2017</th>\n",
       "      <th>generation_gwh_2018</th>\n",
       "      <th>generation_data_source</th>\n",
       "    </tr>\n",
       "  </thead>\n",
       "  <tbody>\n",
       "    <tr>\n",
       "      <th>0</th>\n",
       "      <td>IND</td>\n",
       "      <td>India</td>\n",
       "      <td>ACME Solar Tower</td>\n",
       "      <td>WRI1020239</td>\n",
       "      <td>2.5</td>\n",
       "      <td>28.1839</td>\n",
       "      <td>73.2407</td>\n",
       "      <td>Solar</td>\n",
       "      <td>2011.0</td>\n",
       "      <td>Solar Paces</td>\n",
       "      <td>...</td>\n",
       "      <td>http://www.nrel.gov/csp/solarpaces/project_det...</td>\n",
       "      <td>National Renewable Energy Laboratory</td>\n",
       "      <td>NaN</td>\n",
       "      <td>NaN</td>\n",
       "      <td>NaN</td>\n",
       "      <td>NaN</td>\n",
       "      <td>NaN</td>\n",
       "      <td>NaN</td>\n",
       "      <td>NaN</td>\n",
       "      <td>NaN</td>\n",
       "    </tr>\n",
       "    <tr>\n",
       "      <th>1</th>\n",
       "      <td>IND</td>\n",
       "      <td>India</td>\n",
       "      <td>ADITYA CEMENT WORKS</td>\n",
       "      <td>WRI1019881</td>\n",
       "      <td>98.0</td>\n",
       "      <td>24.7663</td>\n",
       "      <td>74.6090</td>\n",
       "      <td>Coal</td>\n",
       "      <td>NaN</td>\n",
       "      <td>Ultratech Cement ltd</td>\n",
       "      <td>...</td>\n",
       "      <td>http://www.ultratechcement.com/</td>\n",
       "      <td>WRI</td>\n",
       "      <td>NaN</td>\n",
       "      <td>NaN</td>\n",
       "      <td>NaN</td>\n",
       "      <td>NaN</td>\n",
       "      <td>NaN</td>\n",
       "      <td>NaN</td>\n",
       "      <td>NaN</td>\n",
       "      <td>NaN</td>\n",
       "    </tr>\n",
       "    <tr>\n",
       "      <th>2</th>\n",
       "      <td>IND</td>\n",
       "      <td>India</td>\n",
       "      <td>AES Saurashtra Windfarms</td>\n",
       "      <td>WRI1026669</td>\n",
       "      <td>39.2</td>\n",
       "      <td>21.9038</td>\n",
       "      <td>69.3732</td>\n",
       "      <td>Wind</td>\n",
       "      <td>NaN</td>\n",
       "      <td>AES</td>\n",
       "      <td>...</td>\n",
       "      <td>https://cdm.unfccc.int/Projects/DB/DNV-CUK1328...</td>\n",
       "      <td>WRI</td>\n",
       "      <td>NaN</td>\n",
       "      <td>NaN</td>\n",
       "      <td>NaN</td>\n",
       "      <td>NaN</td>\n",
       "      <td>NaN</td>\n",
       "      <td>NaN</td>\n",
       "      <td>NaN</td>\n",
       "      <td>NaN</td>\n",
       "    </tr>\n",
       "    <tr>\n",
       "      <th>3</th>\n",
       "      <td>IND</td>\n",
       "      <td>India</td>\n",
       "      <td>AGARTALA GT</td>\n",
       "      <td>IND0000001</td>\n",
       "      <td>135.0</td>\n",
       "      <td>23.8712</td>\n",
       "      <td>91.3602</td>\n",
       "      <td>Gas</td>\n",
       "      <td>2004.0</td>\n",
       "      <td>NaN</td>\n",
       "      <td>...</td>\n",
       "      <td>http://www.cea.nic.in/</td>\n",
       "      <td>WRI</td>\n",
       "      <td>2019.0</td>\n",
       "      <td>2.41461</td>\n",
       "      <td>617.789264</td>\n",
       "      <td>843.747000</td>\n",
       "      <td>886.004428</td>\n",
       "      <td>663.774500</td>\n",
       "      <td>626.239128</td>\n",
       "      <td>Central Electricity Authority</td>\n",
       "    </tr>\n",
       "    <tr>\n",
       "      <th>4</th>\n",
       "      <td>IND</td>\n",
       "      <td>India</td>\n",
       "      <td>AKALTARA TPP</td>\n",
       "      <td>IND0000002</td>\n",
       "      <td>1800.0</td>\n",
       "      <td>21.9603</td>\n",
       "      <td>82.4091</td>\n",
       "      <td>Coal</td>\n",
       "      <td>2015.0</td>\n",
       "      <td>NaN</td>\n",
       "      <td>...</td>\n",
       "      <td>http://www.cea.nic.in/</td>\n",
       "      <td>WRI</td>\n",
       "      <td>2019.0</td>\n",
       "      <td>NaN</td>\n",
       "      <td>3035.550000</td>\n",
       "      <td>5916.370000</td>\n",
       "      <td>6243.000000</td>\n",
       "      <td>5385.579736</td>\n",
       "      <td>7279.000000</td>\n",
       "      <td>Central Electricity Authority</td>\n",
       "    </tr>\n",
       "    <tr>\n",
       "      <th>...</th>\n",
       "      <td>...</td>\n",
       "      <td>...</td>\n",
       "      <td>...</td>\n",
       "      <td>...</td>\n",
       "      <td>...</td>\n",
       "      <td>...</td>\n",
       "      <td>...</td>\n",
       "      <td>...</td>\n",
       "      <td>...</td>\n",
       "      <td>...</td>\n",
       "      <td>...</td>\n",
       "      <td>...</td>\n",
       "      <td>...</td>\n",
       "      <td>...</td>\n",
       "      <td>...</td>\n",
       "      <td>...</td>\n",
       "      <td>...</td>\n",
       "      <td>...</td>\n",
       "      <td>...</td>\n",
       "      <td>...</td>\n",
       "      <td>...</td>\n",
       "    </tr>\n",
       "    <tr>\n",
       "      <th>902</th>\n",
       "      <td>IND</td>\n",
       "      <td>India</td>\n",
       "      <td>YERMARUS TPP</td>\n",
       "      <td>IND0000513</td>\n",
       "      <td>1600.0</td>\n",
       "      <td>16.2949</td>\n",
       "      <td>77.3568</td>\n",
       "      <td>Coal</td>\n",
       "      <td>2016.0</td>\n",
       "      <td>NaN</td>\n",
       "      <td>...</td>\n",
       "      <td>http://www.cea.nic.in/</td>\n",
       "      <td>WRI</td>\n",
       "      <td>2019.0</td>\n",
       "      <td>NaN</td>\n",
       "      <td>NaN</td>\n",
       "      <td>0.994875</td>\n",
       "      <td>233.596650</td>\n",
       "      <td>865.400000</td>\n",
       "      <td>686.500000</td>\n",
       "      <td>Central Electricity Authority</td>\n",
       "    </tr>\n",
       "    <tr>\n",
       "      <th>903</th>\n",
       "      <td>IND</td>\n",
       "      <td>India</td>\n",
       "      <td>Yelesandra Solar Power Plant</td>\n",
       "      <td>WRI1026222</td>\n",
       "      <td>3.0</td>\n",
       "      <td>12.8932</td>\n",
       "      <td>78.1654</td>\n",
       "      <td>Solar</td>\n",
       "      <td>NaN</td>\n",
       "      <td>Karnataka Power Corporation Limited</td>\n",
       "      <td>...</td>\n",
       "      <td>http://karnatakapower.com</td>\n",
       "      <td>Industry About</td>\n",
       "      <td>NaN</td>\n",
       "      <td>1.92500</td>\n",
       "      <td>NaN</td>\n",
       "      <td>NaN</td>\n",
       "      <td>NaN</td>\n",
       "      <td>NaN</td>\n",
       "      <td>NaN</td>\n",
       "      <td>NaN</td>\n",
       "    </tr>\n",
       "    <tr>\n",
       "      <th>904</th>\n",
       "      <td>IND</td>\n",
       "      <td>India</td>\n",
       "      <td>Yelisirur wind power project</td>\n",
       "      <td>WRI1026776</td>\n",
       "      <td>25.5</td>\n",
       "      <td>15.2758</td>\n",
       "      <td>75.5811</td>\n",
       "      <td>Wind</td>\n",
       "      <td>NaN</td>\n",
       "      <td>NaN</td>\n",
       "      <td>...</td>\n",
       "      <td>https://cdm.unfccc.int/Projects/DB/TUEV-RHEIN1...</td>\n",
       "      <td>WRI</td>\n",
       "      <td>NaN</td>\n",
       "      <td>2.05400</td>\n",
       "      <td>NaN</td>\n",
       "      <td>NaN</td>\n",
       "      <td>NaN</td>\n",
       "      <td>NaN</td>\n",
       "      <td>NaN</td>\n",
       "      <td>NaN</td>\n",
       "    </tr>\n",
       "    <tr>\n",
       "      <th>905</th>\n",
       "      <td>IND</td>\n",
       "      <td>India</td>\n",
       "      <td>ZAWAR MINES</td>\n",
       "      <td>WRI1019901</td>\n",
       "      <td>80.0</td>\n",
       "      <td>24.3500</td>\n",
       "      <td>73.7477</td>\n",
       "      <td>Coal</td>\n",
       "      <td>NaN</td>\n",
       "      <td>Hindustan Zinc ltd</td>\n",
       "      <td>...</td>\n",
       "      <td>http://www.hzlindia.com/</td>\n",
       "      <td>WRI</td>\n",
       "      <td>NaN</td>\n",
       "      <td>NaN</td>\n",
       "      <td>NaN</td>\n",
       "      <td>NaN</td>\n",
       "      <td>NaN</td>\n",
       "      <td>NaN</td>\n",
       "      <td>NaN</td>\n",
       "      <td>NaN</td>\n",
       "    </tr>\n",
       "    <tr>\n",
       "      <th>906</th>\n",
       "      <td>IND</td>\n",
       "      <td>India</td>\n",
       "      <td>iEnergy Theni Wind Farm</td>\n",
       "      <td>WRI1026761</td>\n",
       "      <td>16.5</td>\n",
       "      <td>9.9344</td>\n",
       "      <td>77.4768</td>\n",
       "      <td>Wind</td>\n",
       "      <td>NaN</td>\n",
       "      <td>iEnergy Wind Farms</td>\n",
       "      <td>...</td>\n",
       "      <td>https://cdm.unfccc.int/Projects/DB/RWTUV134503...</td>\n",
       "      <td>WRI</td>\n",
       "      <td>NaN</td>\n",
       "      <td>NaN</td>\n",
       "      <td>NaN</td>\n",
       "      <td>NaN</td>\n",
       "      <td>NaN</td>\n",
       "      <td>NaN</td>\n",
       "      <td>NaN</td>\n",
       "      <td>NaN</td>\n",
       "    </tr>\n",
       "  </tbody>\n",
       "</table>\n",
       "<p>907 rows × 21 columns</p>\n",
       "</div>"
      ],
      "text/plain": [
       "    country country_long                          name   gppd_idnr  \\\n",
       "0       IND        India              ACME Solar Tower  WRI1020239   \n",
       "1       IND        India           ADITYA CEMENT WORKS  WRI1019881   \n",
       "2       IND        India      AES Saurashtra Windfarms  WRI1026669   \n",
       "3       IND        India                   AGARTALA GT  IND0000001   \n",
       "4       IND        India                  AKALTARA TPP  IND0000002   \n",
       "..      ...          ...                           ...         ...   \n",
       "902     IND        India                  YERMARUS TPP  IND0000513   \n",
       "903     IND        India  Yelesandra Solar Power Plant  WRI1026222   \n",
       "904     IND        India  Yelisirur wind power project  WRI1026776   \n",
       "905     IND        India                   ZAWAR MINES  WRI1019901   \n",
       "906     IND        India       iEnergy Theni Wind Farm  WRI1026761   \n",
       "\n",
       "     capacity_mw  latitude  longitude primary_fuel  commissioning_year  \\\n",
       "0            2.5   28.1839    73.2407        Solar              2011.0   \n",
       "1           98.0   24.7663    74.6090         Coal                 NaN   \n",
       "2           39.2   21.9038    69.3732         Wind                 NaN   \n",
       "3          135.0   23.8712    91.3602          Gas              2004.0   \n",
       "4         1800.0   21.9603    82.4091         Coal              2015.0   \n",
       "..           ...       ...        ...          ...                 ...   \n",
       "902       1600.0   16.2949    77.3568         Coal              2016.0   \n",
       "903          3.0   12.8932    78.1654        Solar                 NaN   \n",
       "904         25.5   15.2758    75.5811         Wind                 NaN   \n",
       "905         80.0   24.3500    73.7477         Coal                 NaN   \n",
       "906         16.5    9.9344    77.4768         Wind                 NaN   \n",
       "\n",
       "                                   owner  ...  \\\n",
       "0                            Solar Paces  ...   \n",
       "1                   Ultratech Cement ltd  ...   \n",
       "2                                    AES  ...   \n",
       "3                                    NaN  ...   \n",
       "4                                    NaN  ...   \n",
       "..                                   ...  ...   \n",
       "902                                  NaN  ...   \n",
       "903  Karnataka Power Corporation Limited  ...   \n",
       "904                                  NaN  ...   \n",
       "905                   Hindustan Zinc ltd  ...   \n",
       "906                   iEnergy Wind Farms  ...   \n",
       "\n",
       "                                                   url  \\\n",
       "0    http://www.nrel.gov/csp/solarpaces/project_det...   \n",
       "1                      http://www.ultratechcement.com/   \n",
       "2    https://cdm.unfccc.int/Projects/DB/DNV-CUK1328...   \n",
       "3                               http://www.cea.nic.in/   \n",
       "4                               http://www.cea.nic.in/   \n",
       "..                                                 ...   \n",
       "902                             http://www.cea.nic.in/   \n",
       "903                          http://karnatakapower.com   \n",
       "904  https://cdm.unfccc.int/Projects/DB/TUEV-RHEIN1...   \n",
       "905                           http://www.hzlindia.com/   \n",
       "906  https://cdm.unfccc.int/Projects/DB/RWTUV134503...   \n",
       "\n",
       "                       geolocation_source year_of_capacity_data  \\\n",
       "0    National Renewable Energy Laboratory                   NaN   \n",
       "1                                     WRI                   NaN   \n",
       "2                                     WRI                   NaN   \n",
       "3                                     WRI                2019.0   \n",
       "4                                     WRI                2019.0   \n",
       "..                                    ...                   ...   \n",
       "902                                   WRI                2019.0   \n",
       "903                        Industry About                   NaN   \n",
       "904                                   WRI                   NaN   \n",
       "905                                   WRI                   NaN   \n",
       "906                                   WRI                   NaN   \n",
       "\n",
       "     generation_gwh_2013  generation_gwh_2014  generation_gwh_2015  \\\n",
       "0                    NaN                  NaN                  NaN   \n",
       "1                    NaN                  NaN                  NaN   \n",
       "2                    NaN                  NaN                  NaN   \n",
       "3                2.41461           617.789264           843.747000   \n",
       "4                    NaN          3035.550000          5916.370000   \n",
       "..                   ...                  ...                  ...   \n",
       "902                  NaN                  NaN             0.994875   \n",
       "903              1.92500                  NaN                  NaN   \n",
       "904              2.05400                  NaN                  NaN   \n",
       "905                  NaN                  NaN                  NaN   \n",
       "906                  NaN                  NaN                  NaN   \n",
       "\n",
       "     generation_gwh_2016  generation_gwh_2017  generation_gwh_2018  \\\n",
       "0                    NaN                  NaN                  NaN   \n",
       "1                    NaN                  NaN                  NaN   \n",
       "2                    NaN                  NaN                  NaN   \n",
       "3             886.004428           663.774500           626.239128   \n",
       "4            6243.000000          5385.579736          7279.000000   \n",
       "..                   ...                  ...                  ...   \n",
       "902           233.596650           865.400000           686.500000   \n",
       "903                  NaN                  NaN                  NaN   \n",
       "904                  NaN                  NaN                  NaN   \n",
       "905                  NaN                  NaN                  NaN   \n",
       "906                  NaN                  NaN                  NaN   \n",
       "\n",
       "            generation_data_source  \n",
       "0                              NaN  \n",
       "1                              NaN  \n",
       "2                              NaN  \n",
       "3    Central Electricity Authority  \n",
       "4    Central Electricity Authority  \n",
       "..                             ...  \n",
       "902  Central Electricity Authority  \n",
       "903                            NaN  \n",
       "904                            NaN  \n",
       "905                            NaN  \n",
       "906                            NaN  \n",
       "\n",
       "[907 rows x 21 columns]"
      ]
     },
     "execution_count": 6,
     "metadata": {},
     "output_type": "execute_result"
    }
   ],
   "source": [
    "df.drop(['other_fuel1','other_fuel2','other_fuel3','wepp_id','generation_gwh_2019','estimated_generation_gwh'],axis=1, inplace=True)\n",
    "df"
   ]
  },
  {
   "cell_type": "code",
   "execution_count": 7,
   "id": "963cf2bf",
   "metadata": {},
   "outputs": [
    {
     "data": {
      "text/plain": [
       "country                     0\n",
       "country_long                0\n",
       "name                        0\n",
       "gppd_idnr                   0\n",
       "capacity_mw                 0\n",
       "latitude                   46\n",
       "longitude                  46\n",
       "primary_fuel                0\n",
       "commissioning_year        374\n",
       "owner                     563\n",
       "source                      0\n",
       "url                         0\n",
       "geolocation_source         19\n",
       "year_of_capacity_data     388\n",
       "generation_gwh_2013       461\n",
       "generation_gwh_2014       503\n",
       "generation_gwh_2015       479\n",
       "generation_gwh_2016       467\n",
       "generation_gwh_2017       461\n",
       "generation_gwh_2018       454\n",
       "generation_data_source    453\n",
       "dtype: int64"
      ]
     },
     "execution_count": 7,
     "metadata": {},
     "output_type": "execute_result"
    }
   ],
   "source": [
    "df.isnull().sum()"
   ]
  },
  {
   "cell_type": "markdown",
   "id": "3fa351b6",
   "metadata": {},
   "source": [
    "### Removing non- relevent columns\n"
   ]
  },
  {
   "cell_type": "code",
   "execution_count": 8,
   "id": "9eaa93ae",
   "metadata": {},
   "outputs": [
    {
     "data": {
      "text/html": [
       "<div>\n",
       "<style scoped>\n",
       "    .dataframe tbody tr th:only-of-type {\n",
       "        vertical-align: middle;\n",
       "    }\n",
       "\n",
       "    .dataframe tbody tr th {\n",
       "        vertical-align: top;\n",
       "    }\n",
       "\n",
       "    .dataframe thead th {\n",
       "        text-align: right;\n",
       "    }\n",
       "</style>\n",
       "<table border=\"1\" class=\"dataframe\">\n",
       "  <thead>\n",
       "    <tr style=\"text-align: right;\">\n",
       "      <th></th>\n",
       "      <th>capacity_mw</th>\n",
       "      <th>latitude</th>\n",
       "      <th>longitude</th>\n",
       "      <th>primary_fuel</th>\n",
       "      <th>commissioning_year</th>\n",
       "      <th>source</th>\n",
       "      <th>geolocation_source</th>\n",
       "      <th>generation_gwh_2013</th>\n",
       "      <th>generation_gwh_2014</th>\n",
       "      <th>generation_gwh_2015</th>\n",
       "      <th>generation_gwh_2016</th>\n",
       "      <th>generation_gwh_2017</th>\n",
       "      <th>generation_gwh_2018</th>\n",
       "      <th>generation_data_source</th>\n",
       "    </tr>\n",
       "  </thead>\n",
       "  <tbody>\n",
       "    <tr>\n",
       "      <th>0</th>\n",
       "      <td>2.5</td>\n",
       "      <td>28.1839</td>\n",
       "      <td>73.2407</td>\n",
       "      <td>Solar</td>\n",
       "      <td>2011.0</td>\n",
       "      <td>National Renewable Energy Laboratory</td>\n",
       "      <td>National Renewable Energy Laboratory</td>\n",
       "      <td>NaN</td>\n",
       "      <td>NaN</td>\n",
       "      <td>NaN</td>\n",
       "      <td>NaN</td>\n",
       "      <td>NaN</td>\n",
       "      <td>NaN</td>\n",
       "      <td>NaN</td>\n",
       "    </tr>\n",
       "    <tr>\n",
       "      <th>1</th>\n",
       "      <td>98.0</td>\n",
       "      <td>24.7663</td>\n",
       "      <td>74.6090</td>\n",
       "      <td>Coal</td>\n",
       "      <td>NaN</td>\n",
       "      <td>Ultratech Cement ltd</td>\n",
       "      <td>WRI</td>\n",
       "      <td>NaN</td>\n",
       "      <td>NaN</td>\n",
       "      <td>NaN</td>\n",
       "      <td>NaN</td>\n",
       "      <td>NaN</td>\n",
       "      <td>NaN</td>\n",
       "      <td>NaN</td>\n",
       "    </tr>\n",
       "    <tr>\n",
       "      <th>2</th>\n",
       "      <td>39.2</td>\n",
       "      <td>21.9038</td>\n",
       "      <td>69.3732</td>\n",
       "      <td>Wind</td>\n",
       "      <td>NaN</td>\n",
       "      <td>CDM</td>\n",
       "      <td>WRI</td>\n",
       "      <td>NaN</td>\n",
       "      <td>NaN</td>\n",
       "      <td>NaN</td>\n",
       "      <td>NaN</td>\n",
       "      <td>NaN</td>\n",
       "      <td>NaN</td>\n",
       "      <td>NaN</td>\n",
       "    </tr>\n",
       "    <tr>\n",
       "      <th>3</th>\n",
       "      <td>135.0</td>\n",
       "      <td>23.8712</td>\n",
       "      <td>91.3602</td>\n",
       "      <td>Gas</td>\n",
       "      <td>2004.0</td>\n",
       "      <td>Central Electricity Authority</td>\n",
       "      <td>WRI</td>\n",
       "      <td>2.41461</td>\n",
       "      <td>617.789264</td>\n",
       "      <td>843.747000</td>\n",
       "      <td>886.004428</td>\n",
       "      <td>663.774500</td>\n",
       "      <td>626.239128</td>\n",
       "      <td>Central Electricity Authority</td>\n",
       "    </tr>\n",
       "    <tr>\n",
       "      <th>4</th>\n",
       "      <td>1800.0</td>\n",
       "      <td>21.9603</td>\n",
       "      <td>82.4091</td>\n",
       "      <td>Coal</td>\n",
       "      <td>2015.0</td>\n",
       "      <td>Central Electricity Authority</td>\n",
       "      <td>WRI</td>\n",
       "      <td>NaN</td>\n",
       "      <td>3035.550000</td>\n",
       "      <td>5916.370000</td>\n",
       "      <td>6243.000000</td>\n",
       "      <td>5385.579736</td>\n",
       "      <td>7279.000000</td>\n",
       "      <td>Central Electricity Authority</td>\n",
       "    </tr>\n",
       "    <tr>\n",
       "      <th>...</th>\n",
       "      <td>...</td>\n",
       "      <td>...</td>\n",
       "      <td>...</td>\n",
       "      <td>...</td>\n",
       "      <td>...</td>\n",
       "      <td>...</td>\n",
       "      <td>...</td>\n",
       "      <td>...</td>\n",
       "      <td>...</td>\n",
       "      <td>...</td>\n",
       "      <td>...</td>\n",
       "      <td>...</td>\n",
       "      <td>...</td>\n",
       "      <td>...</td>\n",
       "    </tr>\n",
       "    <tr>\n",
       "      <th>902</th>\n",
       "      <td>1600.0</td>\n",
       "      <td>16.2949</td>\n",
       "      <td>77.3568</td>\n",
       "      <td>Coal</td>\n",
       "      <td>2016.0</td>\n",
       "      <td>Central Electricity Authority</td>\n",
       "      <td>WRI</td>\n",
       "      <td>NaN</td>\n",
       "      <td>NaN</td>\n",
       "      <td>0.994875</td>\n",
       "      <td>233.596650</td>\n",
       "      <td>865.400000</td>\n",
       "      <td>686.500000</td>\n",
       "      <td>Central Electricity Authority</td>\n",
       "    </tr>\n",
       "    <tr>\n",
       "      <th>903</th>\n",
       "      <td>3.0</td>\n",
       "      <td>12.8932</td>\n",
       "      <td>78.1654</td>\n",
       "      <td>Solar</td>\n",
       "      <td>NaN</td>\n",
       "      <td>Karnataka Power Corporation Limited</td>\n",
       "      <td>Industry About</td>\n",
       "      <td>1.92500</td>\n",
       "      <td>NaN</td>\n",
       "      <td>NaN</td>\n",
       "      <td>NaN</td>\n",
       "      <td>NaN</td>\n",
       "      <td>NaN</td>\n",
       "      <td>NaN</td>\n",
       "    </tr>\n",
       "    <tr>\n",
       "      <th>904</th>\n",
       "      <td>25.5</td>\n",
       "      <td>15.2758</td>\n",
       "      <td>75.5811</td>\n",
       "      <td>Wind</td>\n",
       "      <td>NaN</td>\n",
       "      <td>CDM</td>\n",
       "      <td>WRI</td>\n",
       "      <td>2.05400</td>\n",
       "      <td>NaN</td>\n",
       "      <td>NaN</td>\n",
       "      <td>NaN</td>\n",
       "      <td>NaN</td>\n",
       "      <td>NaN</td>\n",
       "      <td>NaN</td>\n",
       "    </tr>\n",
       "    <tr>\n",
       "      <th>905</th>\n",
       "      <td>80.0</td>\n",
       "      <td>24.3500</td>\n",
       "      <td>73.7477</td>\n",
       "      <td>Coal</td>\n",
       "      <td>NaN</td>\n",
       "      <td>Hindustan Zinc ltd</td>\n",
       "      <td>WRI</td>\n",
       "      <td>NaN</td>\n",
       "      <td>NaN</td>\n",
       "      <td>NaN</td>\n",
       "      <td>NaN</td>\n",
       "      <td>NaN</td>\n",
       "      <td>NaN</td>\n",
       "      <td>NaN</td>\n",
       "    </tr>\n",
       "    <tr>\n",
       "      <th>906</th>\n",
       "      <td>16.5</td>\n",
       "      <td>9.9344</td>\n",
       "      <td>77.4768</td>\n",
       "      <td>Wind</td>\n",
       "      <td>NaN</td>\n",
       "      <td>CDM</td>\n",
       "      <td>WRI</td>\n",
       "      <td>NaN</td>\n",
       "      <td>NaN</td>\n",
       "      <td>NaN</td>\n",
       "      <td>NaN</td>\n",
       "      <td>NaN</td>\n",
       "      <td>NaN</td>\n",
       "      <td>NaN</td>\n",
       "    </tr>\n",
       "  </tbody>\n",
       "</table>\n",
       "<p>907 rows × 14 columns</p>\n",
       "</div>"
      ],
      "text/plain": [
       "     capacity_mw  latitude  longitude primary_fuel  commissioning_year  \\\n",
       "0            2.5   28.1839    73.2407        Solar              2011.0   \n",
       "1           98.0   24.7663    74.6090         Coal                 NaN   \n",
       "2           39.2   21.9038    69.3732         Wind                 NaN   \n",
       "3          135.0   23.8712    91.3602          Gas              2004.0   \n",
       "4         1800.0   21.9603    82.4091         Coal              2015.0   \n",
       "..           ...       ...        ...          ...                 ...   \n",
       "902       1600.0   16.2949    77.3568         Coal              2016.0   \n",
       "903          3.0   12.8932    78.1654        Solar                 NaN   \n",
       "904         25.5   15.2758    75.5811         Wind                 NaN   \n",
       "905         80.0   24.3500    73.7477         Coal                 NaN   \n",
       "906         16.5    9.9344    77.4768         Wind                 NaN   \n",
       "\n",
       "                                   source  \\\n",
       "0    National Renewable Energy Laboratory   \n",
       "1                    Ultratech Cement ltd   \n",
       "2                                     CDM   \n",
       "3           Central Electricity Authority   \n",
       "4           Central Electricity Authority   \n",
       "..                                    ...   \n",
       "902         Central Electricity Authority   \n",
       "903   Karnataka Power Corporation Limited   \n",
       "904                                   CDM   \n",
       "905                    Hindustan Zinc ltd   \n",
       "906                                   CDM   \n",
       "\n",
       "                       geolocation_source  generation_gwh_2013  \\\n",
       "0    National Renewable Energy Laboratory                  NaN   \n",
       "1                                     WRI                  NaN   \n",
       "2                                     WRI                  NaN   \n",
       "3                                     WRI              2.41461   \n",
       "4                                     WRI                  NaN   \n",
       "..                                    ...                  ...   \n",
       "902                                   WRI                  NaN   \n",
       "903                        Industry About              1.92500   \n",
       "904                                   WRI              2.05400   \n",
       "905                                   WRI                  NaN   \n",
       "906                                   WRI                  NaN   \n",
       "\n",
       "     generation_gwh_2014  generation_gwh_2015  generation_gwh_2016  \\\n",
       "0                    NaN                  NaN                  NaN   \n",
       "1                    NaN                  NaN                  NaN   \n",
       "2                    NaN                  NaN                  NaN   \n",
       "3             617.789264           843.747000           886.004428   \n",
       "4            3035.550000          5916.370000          6243.000000   \n",
       "..                   ...                  ...                  ...   \n",
       "902                  NaN             0.994875           233.596650   \n",
       "903                  NaN                  NaN                  NaN   \n",
       "904                  NaN                  NaN                  NaN   \n",
       "905                  NaN                  NaN                  NaN   \n",
       "906                  NaN                  NaN                  NaN   \n",
       "\n",
       "     generation_gwh_2017  generation_gwh_2018         generation_data_source  \n",
       "0                    NaN                  NaN                            NaN  \n",
       "1                    NaN                  NaN                            NaN  \n",
       "2                    NaN                  NaN                            NaN  \n",
       "3             663.774500           626.239128  Central Electricity Authority  \n",
       "4            5385.579736          7279.000000  Central Electricity Authority  \n",
       "..                   ...                  ...                            ...  \n",
       "902           865.400000           686.500000  Central Electricity Authority  \n",
       "903                  NaN                  NaN                            NaN  \n",
       "904                  NaN                  NaN                            NaN  \n",
       "905                  NaN                  NaN                            NaN  \n",
       "906                  NaN                  NaN                            NaN  \n",
       "\n",
       "[907 rows x 14 columns]"
      ]
     },
     "execution_count": 8,
     "metadata": {},
     "output_type": "execute_result"
    }
   ],
   "source": [
    "df.drop(['country','country_long','url','year_of_capacity_data','gppd_idnr','owner','name'],axis=1,inplace=True)\n",
    "df"
   ]
  },
  {
   "cell_type": "code",
   "execution_count": 9,
   "id": "b4f69f12",
   "metadata": {},
   "outputs": [
    {
     "data": {
      "text/plain": [
       "array(['National Renewable Energy Laboratory', 'WRI', nan,\n",
       "       'Industry About'], dtype=object)"
      ]
     },
     "execution_count": 9,
     "metadata": {},
     "output_type": "execute_result"
    }
   ],
   "source": [
    "df['geolocation_source'].unique()"
   ]
  },
  {
   "cell_type": "code",
   "execution_count": 10,
   "id": "115876bb",
   "metadata": {},
   "outputs": [],
   "source": [
    "# Filling geolocation_source with mode because of categorical data\n",
    "df['geolocation_source'].fillna(df['geolocation_source'].mode()[0],inplace=True)\n"
   ]
  },
  {
   "cell_type": "code",
   "execution_count": 11,
   "id": "7fffa439",
   "metadata": {},
   "outputs": [],
   "source": [
    "# filling null values with median in numerical columns\n",
    "df.fillna(df.median()[0],inplace =True)"
   ]
  },
  {
   "cell_type": "code",
   "execution_count": 12,
   "id": "2fe05d7e",
   "metadata": {},
   "outputs": [
    {
     "data": {
      "text/plain": [
       "capacity_mw               0\n",
       "latitude                  0\n",
       "longitude                 0\n",
       "primary_fuel              0\n",
       "commissioning_year        0\n",
       "source                    0\n",
       "geolocation_source        0\n",
       "generation_gwh_2013       0\n",
       "generation_gwh_2014       0\n",
       "generation_gwh_2015       0\n",
       "generation_gwh_2016       0\n",
       "generation_gwh_2017       0\n",
       "generation_gwh_2018       0\n",
       "generation_data_source    0\n",
       "dtype: int64"
      ]
     },
     "execution_count": 12,
     "metadata": {},
     "output_type": "execute_result"
    }
   ],
   "source": [
    "df.isnull().sum()"
   ]
  },
  {
   "cell_type": "markdown",
   "id": "3194871e",
   "metadata": {},
   "source": [
    "Here we can see that there are no null values."
   ]
  },
  {
   "cell_type": "code",
   "execution_count": 13,
   "id": "6cde9bf6",
   "metadata": {},
   "outputs": [
    {
     "data": {
      "text/plain": [
       "191"
      ]
     },
     "execution_count": 13,
     "metadata": {},
     "output_type": "execute_result"
    }
   ],
   "source": [
    "df['source'].nunique()"
   ]
  },
  {
   "cell_type": "code",
   "execution_count": 14,
   "id": "71df87fb",
   "metadata": {},
   "outputs": [
    {
     "data": {
      "text/plain": [
       "3"
      ]
     },
     "execution_count": 14,
     "metadata": {},
     "output_type": "execute_result"
    }
   ],
   "source": [
    "df['geolocation_source'].nunique()"
   ]
  },
  {
   "cell_type": "code",
   "execution_count": 15,
   "id": "1e90abc4",
   "metadata": {},
   "outputs": [
    {
     "name": "stdout",
     "output_type": "stream",
     "text": [
      "<class 'pandas.core.frame.DataFrame'>\n",
      "RangeIndex: 907 entries, 0 to 906\n",
      "Data columns (total 14 columns):\n",
      " #   Column                  Non-Null Count  Dtype  \n",
      "---  ------                  --------------  -----  \n",
      " 0   capacity_mw             907 non-null    float64\n",
      " 1   latitude                907 non-null    float64\n",
      " 2   longitude               907 non-null    float64\n",
      " 3   primary_fuel            907 non-null    object \n",
      " 4   commissioning_year      907 non-null    float64\n",
      " 5   source                  907 non-null    object \n",
      " 6   geolocation_source      907 non-null    object \n",
      " 7   generation_gwh_2013     907 non-null    float64\n",
      " 8   generation_gwh_2014     907 non-null    float64\n",
      " 9   generation_gwh_2015     907 non-null    float64\n",
      " 10  generation_gwh_2016     907 non-null    float64\n",
      " 11  generation_gwh_2017     907 non-null    float64\n",
      " 12  generation_gwh_2018     907 non-null    float64\n",
      " 13  generation_data_source  907 non-null    object \n",
      "dtypes: float64(10), object(4)\n",
      "memory usage: 99.3+ KB\n"
     ]
    }
   ],
   "source": [
    "df.info()"
   ]
  },
  {
   "cell_type": "code",
   "execution_count": 16,
   "id": "7bdc0c3d",
   "metadata": {},
   "outputs": [
    {
     "data": {
      "text/plain": [
       "<Axes: xlabel='primary_fuel', ylabel='count'>"
      ]
     },
     "execution_count": 16,
     "metadata": {},
     "output_type": "execute_result"
    },
    {
     "data": {
      "image/png": "[encoded data removed]",
      "text/plain": [
       "<Figure size 640x480 with 1 Axes>"
      ]
     },
     "metadata": {},
     "output_type": "display_data"
    }
   ],
   "source": [
    "sns.set_style('whitegrid')\n",
    "sns.countplot(x='primary_fuel',data=df)"
   ]
  },
  {
   "cell_type": "markdown",
   "id": "f0c2ee3b",
   "metadata": {},
   "source": [
    "# EDA"
   ]
  },
  {
   "cell_type": "code",
   "execution_count": 17,
   "id": "5768b063",
   "metadata": {},
   "outputs": [
    {
     "data": {
      "text/html": [
       "<div>\n",
       "<style scoped>\n",
       "    .dataframe tbody tr th:only-of-type {\n",
       "        vertical-align: middle;\n",
       "    }\n",
       "\n",
       "    .dataframe tbody tr th {\n",
       "        vertical-align: top;\n",
       "    }\n",
       "\n",
       "    .dataframe thead th {\n",
       "        text-align: right;\n",
       "    }\n",
       "</style>\n",
       "<table border=\"1\" class=\"dataframe\">\n",
       "  <thead>\n",
       "    <tr style=\"text-align: right;\">\n",
       "      <th></th>\n",
       "      <th>capacity_mw</th>\n",
       "      <th>latitude</th>\n",
       "      <th>longitude</th>\n",
       "      <th>primary_fuel</th>\n",
       "      <th>commissioning_year</th>\n",
       "      <th>source</th>\n",
       "      <th>geolocation_source</th>\n",
       "      <th>generation_gwh_2013</th>\n",
       "      <th>generation_gwh_2014</th>\n",
       "      <th>generation_gwh_2015</th>\n",
       "      <th>generation_gwh_2016</th>\n",
       "      <th>generation_gwh_2017</th>\n",
       "      <th>generation_gwh_2018</th>\n",
       "      <th>generation_data_source</th>\n",
       "    </tr>\n",
       "  </thead>\n",
       "  <tbody>\n",
       "    <tr>\n",
       "      <th>0</th>\n",
       "      <td>2.5</td>\n",
       "      <td>28.1839</td>\n",
       "      <td>73.2407</td>\n",
       "      <td>Solar</td>\n",
       "      <td>2011.0</td>\n",
       "      <td>National Renewable Energy Laboratory</td>\n",
       "      <td>National Renewable Energy Laboratory</td>\n",
       "      <td>59.20000</td>\n",
       "      <td>59.200000</td>\n",
       "      <td>59.200</td>\n",
       "      <td>59.200000</td>\n",
       "      <td>59.200000</td>\n",
       "      <td>59.200000</td>\n",
       "      <td>59.2</td>\n",
       "    </tr>\n",
       "    <tr>\n",
       "      <th>1</th>\n",
       "      <td>98.0</td>\n",
       "      <td>24.7663</td>\n",
       "      <td>74.6090</td>\n",
       "      <td>Coal</td>\n",
       "      <td>59.2</td>\n",
       "      <td>Ultratech Cement ltd</td>\n",
       "      <td>WRI</td>\n",
       "      <td>59.20000</td>\n",
       "      <td>59.200000</td>\n",
       "      <td>59.200</td>\n",
       "      <td>59.200000</td>\n",
       "      <td>59.200000</td>\n",
       "      <td>59.200000</td>\n",
       "      <td>59.2</td>\n",
       "    </tr>\n",
       "    <tr>\n",
       "      <th>2</th>\n",
       "      <td>39.2</td>\n",
       "      <td>21.9038</td>\n",
       "      <td>69.3732</td>\n",
       "      <td>Wind</td>\n",
       "      <td>59.2</td>\n",
       "      <td>CDM</td>\n",
       "      <td>WRI</td>\n",
       "      <td>59.20000</td>\n",
       "      <td>59.200000</td>\n",
       "      <td>59.200</td>\n",
       "      <td>59.200000</td>\n",
       "      <td>59.200000</td>\n",
       "      <td>59.200000</td>\n",
       "      <td>59.2</td>\n",
       "    </tr>\n",
       "    <tr>\n",
       "      <th>3</th>\n",
       "      <td>135.0</td>\n",
       "      <td>23.8712</td>\n",
       "      <td>91.3602</td>\n",
       "      <td>Gas</td>\n",
       "      <td>2004.0</td>\n",
       "      <td>Central Electricity Authority</td>\n",
       "      <td>WRI</td>\n",
       "      <td>2.41461</td>\n",
       "      <td>617.789264</td>\n",
       "      <td>843.747</td>\n",
       "      <td>886.004428</td>\n",
       "      <td>663.774500</td>\n",
       "      <td>626.239128</td>\n",
       "      <td>Central Electricity Authority</td>\n",
       "    </tr>\n",
       "    <tr>\n",
       "      <th>4</th>\n",
       "      <td>1800.0</td>\n",
       "      <td>21.9603</td>\n",
       "      <td>82.4091</td>\n",
       "      <td>Coal</td>\n",
       "      <td>2015.0</td>\n",
       "      <td>Central Electricity Authority</td>\n",
       "      <td>WRI</td>\n",
       "      <td>59.20000</td>\n",
       "      <td>3035.550000</td>\n",
       "      <td>5916.370</td>\n",
       "      <td>6243.000000</td>\n",
       "      <td>5385.579736</td>\n",
       "      <td>7279.000000</td>\n",
       "      <td>Central Electricity Authority</td>\n",
       "    </tr>\n",
       "  </tbody>\n",
       "</table>\n",
       "</div>"
      ],
      "text/plain": [
       "   capacity_mw  latitude  longitude primary_fuel  commissioning_year  \\\n",
       "0          2.5   28.1839    73.2407        Solar              2011.0   \n",
       "1         98.0   24.7663    74.6090         Coal                59.2   \n",
       "2         39.2   21.9038    69.3732         Wind                59.2   \n",
       "3        135.0   23.8712    91.3602          Gas              2004.0   \n",
       "4       1800.0   21.9603    82.4091         Coal              2015.0   \n",
       "\n",
       "                                 source                    geolocation_source  \\\n",
       "0  National Renewable Energy Laboratory  National Renewable Energy Laboratory   \n",
       "1                  Ultratech Cement ltd                                   WRI   \n",
       "2                                   CDM                                   WRI   \n",
       "3         Central Electricity Authority                                   WRI   \n",
       "4         Central Electricity Authority                                   WRI   \n",
       "\n",
       "   generation_gwh_2013  generation_gwh_2014  generation_gwh_2015  \\\n",
       "0             59.20000            59.200000               59.200   \n",
       "1             59.20000            59.200000               59.200   \n",
       "2             59.20000            59.200000               59.200   \n",
       "3              2.41461           617.789264              843.747   \n",
       "4             59.20000          3035.550000             5916.370   \n",
       "\n",
       "   generation_gwh_2016  generation_gwh_2017  generation_gwh_2018  \\\n",
       "0            59.200000            59.200000            59.200000   \n",
       "1            59.200000            59.200000            59.200000   \n",
       "2            59.200000            59.200000            59.200000   \n",
       "3           886.004428           663.774500           626.239128   \n",
       "4          6243.000000          5385.579736          7279.000000   \n",
       "\n",
       "          generation_data_source  \n",
       "0                           59.2  \n",
       "1                           59.2  \n",
       "2                           59.2  \n",
       "3  Central Electricity Authority  \n",
       "4  Central Electricity Authority  "
      ]
     },
     "execution_count": 17,
     "metadata": {},
     "output_type": "execute_result"
    }
   ],
   "source": [
    "df.head()"
   ]
  },
  {
   "cell_type": "code",
   "execution_count": 18,
   "id": "7093e9a5",
   "metadata": {},
   "outputs": [
    {
     "data": {
      "text/html": [
       "<div>\n",
       "<style scoped>\n",
       "    .dataframe tbody tr th:only-of-type {\n",
       "        vertical-align: middle;\n",
       "    }\n",
       "\n",
       "    .dataframe tbody tr th {\n",
       "        vertical-align: top;\n",
       "    }\n",
       "\n",
       "    .dataframe thead th {\n",
       "        text-align: right;\n",
       "    }\n",
       "</style>\n",
       "<table border=\"1\" class=\"dataframe\">\n",
       "  <thead>\n",
       "    <tr style=\"text-align: right;\">\n",
       "      <th></th>\n",
       "      <th>capacity_mw</th>\n",
       "      <th>latitude</th>\n",
       "      <th>longitude</th>\n",
       "      <th>commissioning_year</th>\n",
       "      <th>generation_gwh_2013</th>\n",
       "      <th>generation_gwh_2014</th>\n",
       "      <th>generation_gwh_2015</th>\n",
       "      <th>generation_gwh_2016</th>\n",
       "      <th>generation_gwh_2017</th>\n",
       "      <th>generation_gwh_2018</th>\n",
       "    </tr>\n",
       "  </thead>\n",
       "  <tbody>\n",
       "    <tr>\n",
       "      <th>capacity_mw</th>\n",
       "      <td>1.000000</td>\n",
       "      <td>-0.053917</td>\n",
       "      <td>0.216974</td>\n",
       "      <td>0.408949</td>\n",
       "      <td>-0.039177</td>\n",
       "      <td>0.813630</td>\n",
       "      <td>0.840710</td>\n",
       "      <td>0.874062</td>\n",
       "      <td>0.891339</td>\n",
       "      <td>0.903325</td>\n",
       "    </tr>\n",
       "    <tr>\n",
       "      <th>latitude</th>\n",
       "      <td>-0.053917</td>\n",
       "      <td>1.000000</td>\n",
       "      <td>-0.500920</td>\n",
       "      <td>0.083863</td>\n",
       "      <td>0.021374</td>\n",
       "      <td>-0.030295</td>\n",
       "      <td>-0.030930</td>\n",
       "      <td>-0.031664</td>\n",
       "      <td>-0.025103</td>\n",
       "      <td>-0.029062</td>\n",
       "    </tr>\n",
       "    <tr>\n",
       "      <th>longitude</th>\n",
       "      <td>0.216974</td>\n",
       "      <td>-0.500920</td>\n",
       "      <td>1.000000</td>\n",
       "      <td>0.289883</td>\n",
       "      <td>0.022542</td>\n",
       "      <td>0.160083</td>\n",
       "      <td>0.169968</td>\n",
       "      <td>0.185303</td>\n",
       "      <td>0.198487</td>\n",
       "      <td>0.197932</td>\n",
       "    </tr>\n",
       "    <tr>\n",
       "      <th>commissioning_year</th>\n",
       "      <td>0.408949</td>\n",
       "      <td>0.083863</td>\n",
       "      <td>0.289883</td>\n",
       "      <td>1.000000</td>\n",
       "      <td>0.004751</td>\n",
       "      <td>0.302435</td>\n",
       "      <td>0.301925</td>\n",
       "      <td>0.311325</td>\n",
       "      <td>0.320488</td>\n",
       "      <td>0.322677</td>\n",
       "    </tr>\n",
       "    <tr>\n",
       "      <th>generation_gwh_2013</th>\n",
       "      <td>-0.039177</td>\n",
       "      <td>0.021374</td>\n",
       "      <td>0.022542</td>\n",
       "      <td>0.004751</td>\n",
       "      <td>1.000000</td>\n",
       "      <td>-0.018062</td>\n",
       "      <td>-0.019680</td>\n",
       "      <td>-0.019895</td>\n",
       "      <td>-0.022135</td>\n",
       "      <td>-0.020055</td>\n",
       "    </tr>\n",
       "    <tr>\n",
       "      <th>generation_gwh_2014</th>\n",
       "      <td>0.813630</td>\n",
       "      <td>-0.030295</td>\n",
       "      <td>0.160083</td>\n",
       "      <td>0.302435</td>\n",
       "      <td>-0.018062</td>\n",
       "      <td>1.000000</td>\n",
       "      <td>0.966640</td>\n",
       "      <td>0.937024</td>\n",
       "      <td>0.906582</td>\n",
       "      <td>0.897903</td>\n",
       "    </tr>\n",
       "    <tr>\n",
       "      <th>generation_gwh_2015</th>\n",
       "      <td>0.840710</td>\n",
       "      <td>-0.030930</td>\n",
       "      <td>0.169968</td>\n",
       "      <td>0.301925</td>\n",
       "      <td>-0.019680</td>\n",
       "      <td>0.966640</td>\n",
       "      <td>1.000000</td>\n",
       "      <td>0.973859</td>\n",
       "      <td>0.942866</td>\n",
       "      <td>0.935726</td>\n",
       "    </tr>\n",
       "    <tr>\n",
       "      <th>generation_gwh_2016</th>\n",
       "      <td>0.874062</td>\n",
       "      <td>-0.031664</td>\n",
       "      <td>0.185303</td>\n",
       "      <td>0.311325</td>\n",
       "      <td>-0.019895</td>\n",
       "      <td>0.937024</td>\n",
       "      <td>0.973859</td>\n",
       "      <td>1.000000</td>\n",
       "      <td>0.976302</td>\n",
       "      <td>0.967416</td>\n",
       "    </tr>\n",
       "    <tr>\n",
       "      <th>generation_gwh_2017</th>\n",
       "      <td>0.891339</td>\n",
       "      <td>-0.025103</td>\n",
       "      <td>0.198487</td>\n",
       "      <td>0.320488</td>\n",
       "      <td>-0.022135</td>\n",
       "      <td>0.906582</td>\n",
       "      <td>0.942866</td>\n",
       "      <td>0.976302</td>\n",
       "      <td>1.000000</td>\n",
       "      <td>0.987883</td>\n",
       "    </tr>\n",
       "    <tr>\n",
       "      <th>generation_gwh_2018</th>\n",
       "      <td>0.903325</td>\n",
       "      <td>-0.029062</td>\n",
       "      <td>0.197932</td>\n",
       "      <td>0.322677</td>\n",
       "      <td>-0.020055</td>\n",
       "      <td>0.897903</td>\n",
       "      <td>0.935726</td>\n",
       "      <td>0.967416</td>\n",
       "      <td>0.987883</td>\n",
       "      <td>1.000000</td>\n",
       "    </tr>\n",
       "  </tbody>\n",
       "</table>\n",
       "</div>"
      ],
      "text/plain": [
       "                     capacity_mw  latitude  longitude  commissioning_year  \\\n",
       "capacity_mw             1.000000 -0.053917   0.216974            0.408949   \n",
       "latitude               -0.053917  1.000000  -0.500920            0.083863   \n",
       "longitude               0.216974 -0.500920   1.000000            0.289883   \n",
       "commissioning_year      0.408949  0.083863   0.289883            1.000000   \n",
       "generation_gwh_2013    -0.039177  0.021374   0.022542            0.004751   \n",
       "generation_gwh_2014     0.813630 -0.030295   0.160083            0.302435   \n",
       "generation_gwh_2015     0.840710 -0.030930   0.169968            0.301925   \n",
       "generation_gwh_2016     0.874062 -0.031664   0.185303            0.311325   \n",
       "generation_gwh_2017     0.891339 -0.025103   0.198487            0.320488   \n",
       "generation_gwh_2018     0.903325 -0.029062   0.197932            0.322677   \n",
       "\n",
       "                     generation_gwh_2013  generation_gwh_2014  \\\n",
       "capacity_mw                    -0.039177             0.813630   \n",
       "latitude                        0.021374            -0.030295   \n",
       "longitude                       0.022542             0.160083   \n",
       "commissioning_year              0.004751             0.302435   \n",
       "generation_gwh_2013             1.000000            -0.018062   \n",
       "generation_gwh_2014            -0.018062             1.000000   \n",
       "generation_gwh_2015            -0.019680             0.966640   \n",
       "generation_gwh_2016            -0.019895             0.937024   \n",
       "generation_gwh_2017            -0.022135             0.906582   \n",
       "generation_gwh_2018            -0.020055             0.897903   \n",
       "\n",
       "                     generation_gwh_2015  generation_gwh_2016  \\\n",
       "capacity_mw                     0.840710             0.874062   \n",
       "latitude                       -0.030930            -0.031664   \n",
       "longitude                       0.169968             0.185303   \n",
       "commissioning_year              0.301925             0.311325   \n",
       "generation_gwh_2013            -0.019680            -0.019895   \n",
       "generation_gwh_2014             0.966640             0.937024   \n",
       "generation_gwh_2015             1.000000             0.973859   \n",
       "generation_gwh_2016             0.973859             1.000000   \n",
       "generation_gwh_2017             0.942866             0.976302   \n",
       "generation_gwh_2018             0.935726             0.967416   \n",
       "\n",
       "                     generation_gwh_2017  generation_gwh_2018  \n",
       "capacity_mw                     0.891339             0.903325  \n",
       "latitude                       -0.025103            -0.029062  \n",
       "longitude                       0.198487             0.197932  \n",
       "commissioning_year              0.320488             0.322677  \n",
       "generation_gwh_2013            -0.022135            -0.020055  \n",
       "generation_gwh_2014             0.906582             0.897903  \n",
       "generation_gwh_2015             0.942866             0.935726  \n",
       "generation_gwh_2016             0.976302             0.967416  \n",
       "generation_gwh_2017             1.000000             0.987883  \n",
       "generation_gwh_2018             0.987883             1.000000  "
      ]
     },
     "execution_count": 18,
     "metadata": {},
     "output_type": "execute_result"
    }
   ],
   "source": [
    "df_corr= df.corr()\n",
    "df_corr"
   ]
  },
  {
   "cell_type": "code",
   "execution_count": 19,
   "id": "92674a48",
   "metadata": {},
   "outputs": [
    {
     "data": {
      "text/plain": [
       "<Axes: >"
      ]
     },
     "execution_count": 19,
     "metadata": {},
     "output_type": "execute_result"
    },
    {
     "data": {
      "image/png": "[encoded data removed]",
      "text/plain": [
       "<Figure size 640x480 with 2 Axes>"
      ]
     },
     "metadata": {},
     "output_type": "display_data"
    }
   ],
   "source": [
    "sns.heatmap(df_corr,annot=True,linewidth=1)"
   ]
  },
  {
   "cell_type": "markdown",
   "id": "056d550c",
   "metadata": {},
   "source": [
    "Here we can notice that generatiom_gwh_2013 is negatively correlated with capacity_mv and latitude,but generation_gwh_2014,..2015,...2016,...2017,....2018 are positively correlated with both capacity_mv and latitude."
   ]
  },
  {
   "cell_type": "code",
   "execution_count": 20,
   "id": "5360b5be",
   "metadata": {},
   "outputs": [
    {
     "data": {
      "text/plain": [
       "<Axes: xlabel='capacity_mw', ylabel='generation_gwh_2014'>"
      ]
     },
     "execution_count": 20,
     "metadata": {},
     "output_type": "execute_result"
    },
    {
     "data": {
      "image/png": "[encoded data removed]",
      "text/plain": [
       "<Figure size 800x400 with 1 Axes>"
      ]
     },
     "metadata": {},
     "output_type": "display_data"
    }
   ],
   "source": [
    "plt.figure(figsize=(8,4))\n",
    "sns.scatterplot(x='capacity_mw',y='generation_gwh_2014',data=df)\n"
   ]
  },
  {
   "cell_type": "markdown",
   "id": "cbce09c8",
   "metadata": {},
   "source": [
    "Here, we can see that as the electricity generation in gigawatt-hour is increasing also increasing the no of electrical generating capacity in megawatts in 2014."
   ]
  },
  {
   "cell_type": "code",
   "execution_count": 21,
   "id": "936e26a2",
   "metadata": {},
   "outputs": [
    {
     "data": {
      "text/plain": [
       "<Axes: xlabel='capacity_mw', ylabel='generation_gwh_2015'>"
      ]
     },
     "execution_count": 21,
     "metadata": {},
     "output_type": "execute_result"
    },
    {
     "data": {
      "image/png": "[encoded data removed]",
      "text/plain": [
       "<Figure size 800x400 with 1 Axes>"
      ]
     },
     "metadata": {},
     "output_type": "display_data"
    }
   ],
   "source": [
    "plt.figure(figsize=(8,4))\n",
    "sns.scatterplot(x='capacity_mw',y='generation_gwh_2015',data=df)\n"
   ]
  },
  {
   "cell_type": "code",
   "execution_count": 22,
   "id": "a012f62f",
   "metadata": {},
   "outputs": [
    {
     "data": {
      "text/plain": [
       "<Axes: xlabel='capacity_mw', ylabel='generation_gwh_2016'>"
      ]
     },
     "execution_count": 22,
     "metadata": {},
     "output_type": "execute_result"
    },
    {
     "data": {
      "image/png": "[encoded data removed]",
      "text/plain": [
       "<Figure size 800x400 with 1 Axes>"
      ]
     },
     "metadata": {},
     "output_type": "display_data"
    }
   ],
   "source": [
    "plt.figure(figsize=(8,4))\n",
    "sns.scatterplot(x='capacity_mw',y='generation_gwh_2016',data=df)\n"
   ]
  },
  {
   "cell_type": "code",
   "execution_count": 23,
   "id": "21402c4e",
   "metadata": {},
   "outputs": [
    {
     "data": {
      "text/plain": [
       "<Axes: xlabel='capacity_mw', ylabel='generation_gwh_2017'>"
      ]
     },
     "execution_count": 23,
     "metadata": {},
     "output_type": "execute_result"
    },
    {
     "data": {
      "image/png": "[encoded data removed]",
      "text/plain": [
       "<Figure size 800x400 with 1 Axes>"
      ]
     },
     "metadata": {},
     "output_type": "display_data"
    }
   ],
   "source": [
    "plt.figure(figsize=(8,4))\n",
    "sns.scatterplot(x='capacity_mw',y='generation_gwh_2017',data=df)\n"
   ]
  },
  {
   "cell_type": "code",
   "execution_count": 24,
   "id": "460acd02",
   "metadata": {},
   "outputs": [
    {
     "data": {
      "text/plain": [
       "<Axes: xlabel='capacity_mw', ylabel='generation_gwh_2018'>"
      ]
     },
     "execution_count": 24,
     "metadata": {},
     "output_type": "execute_result"
    },
    {
     "data": {
      "image/png": "[encoded data removed]",
      "text/plain": [
       "<Figure size 800x400 with 1 Axes>"
      ]
     },
     "metadata": {},
     "output_type": "display_data"
    }
   ],
   "source": [
    "plt.figure(figsize=(8,4))\n",
    "sns.scatterplot(x='capacity_mw',y='generation_gwh_2018',data=df)\n"
   ]
  },
  {
   "cell_type": "markdown",
   "id": "1584684a",
   "metadata": {},
   "source": [
    "Here, we can see that as the electricity generation in gigawatt-hour is increasing also increasing the no of electrical generating capacty in megawatts in 2015,2016,2017,2018. "
   ]
  },
  {
   "cell_type": "code",
   "execution_count": 25,
   "id": "21ebe588",
   "metadata": {},
   "outputs": [
    {
     "data": {
      "text/plain": [
       "<Axes: xlabel='capacity_mw', ylabel='latitude'>"
      ]
     },
     "execution_count": 25,
     "metadata": {},
     "output_type": "execute_result"
    },
    {
     "data": {
      "image/png": "[encoded data removed]",
      "text/plain": [
       "<Figure size 800x400 with 1 Axes>"
      ]
     },
     "metadata": {},
     "output_type": "display_data"
    }
   ],
   "source": [
    "plt.figure(figsize=(8,4))\n",
    "sns.scatterplot(x='capacity_mw',y='latitude',data=df)"
   ]
  },
  {
   "cell_type": "code",
   "execution_count": 26,
   "id": "1567dc51",
   "metadata": {},
   "outputs": [
    {
     "data": {
      "text/plain": [
       "<Axes: xlabel='primary_fuel', ylabel='generation_gwh_2014'>"
      ]
     },
     "execution_count": 26,
     "metadata": {},
     "output_type": "execute_result"
    },
    {
     "data": {
      "image/png": "[encoded data removed]",
      "text/plain": [
       "<Figure size 800x400 with 1 Axes>"
      ]
     },
     "metadata": {},
     "output_type": "display_data"
    }
   ],
   "source": [
    "plt.figure(figsize=(8,4))\n",
    "sns.scatterplot(x='primary_fuel',y='generation_gwh_2014',data=df)\n"
   ]
  },
  {
   "cell_type": "code",
   "execution_count": 27,
   "id": "6ac54a35",
   "metadata": {},
   "outputs": [
    {
     "data": {
      "text/plain": [
       "<Axes: xlabel='primary_fuel', ylabel='generation_gwh_2015'>"
      ]
     },
     "execution_count": 27,
     "metadata": {},
     "output_type": "execute_result"
    },
    {
     "data": {
      "image/png": "[encoded data removed]",
      "text/plain": [
       "<Figure size 800x400 with 1 Axes>"
      ]
     },
     "metadata": {},
     "output_type": "display_data"
    }
   ],
   "source": [
    "plt.figure(figsize=(8,4))\n",
    "sns.scatterplot(x='primary_fuel',y='generation_gwh_2015',data=df)\n"
   ]
  },
  {
   "cell_type": "code",
   "execution_count": 28,
   "id": "4d6c324c",
   "metadata": {},
   "outputs": [
    {
     "data": {
      "text/plain": [
       "<Axes: xlabel='primary_fuel', ylabel='generation_gwh_2016'>"
      ]
     },
     "execution_count": 28,
     "metadata": {},
     "output_type": "execute_result"
    },
    {
     "data": {
      "image/png": "[encoded data removed]",
      "text/plain": [
       "<Figure size 800x400 with 1 Axes>"
      ]
     },
     "metadata": {},
     "output_type": "display_data"
    }
   ],
   "source": [
    "plt.figure(figsize=(8,4))\n",
    "sns.scatterplot(x='primary_fuel',y='generation_gwh_2016',data=df)\n"
   ]
  },
  {
   "cell_type": "code",
   "execution_count": 29,
   "id": "8f6f91ca",
   "metadata": {},
   "outputs": [
    {
     "data": {
      "text/plain": [
       "<Axes: xlabel='primary_fuel', ylabel='generation_gwh_2017'>"
      ]
     },
     "execution_count": 29,
     "metadata": {},
     "output_type": "execute_result"
    },
    {
     "data": {
      "image/png": "[encoded data removed]",
      "text/plain": [
       "<Figure size 800x400 with 1 Axes>"
      ]
     },
     "metadata": {},
     "output_type": "display_data"
    }
   ],
   "source": [
    "plt.figure(figsize=(8,4))\n",
    "sns.scatterplot(x='primary_fuel',y='generation_gwh_2017',data=df)\n"
   ]
  },
  {
   "cell_type": "code",
   "execution_count": 30,
   "id": "8a920286",
   "metadata": {},
   "outputs": [
    {
     "data": {
      "text/plain": [
       "<Axes: xlabel='primary_fuel', ylabel='generation_gwh_2018'>"
      ]
     },
     "execution_count": 30,
     "metadata": {},
     "output_type": "execute_result"
    },
    {
     "data": {
      "image/png": "[encoded data removed]",
      "text/plain": [
       "<Figure size 800x400 with 1 Axes>"
      ]
     },
     "metadata": {},
     "output_type": "display_data"
    }
   ],
   "source": [
    "plt.figure(figsize=(8,4))\n",
    "sns.scatterplot(x='primary_fuel',y='generation_gwh_2018',data=df)\n"
   ]
  },
  {
   "cell_type": "markdown",
   "id": "557e549c",
   "metadata": {},
   "source": [
    "From here we can notice that in all of the years from 2014 to 2018 most frquently used fuel is coal while Nuclear, gas and Hydro are on average use whereas Solar,Wind, Bomass and Oil are very less used."
   ]
  },
  {
   "cell_type": "code",
   "execution_count": 31,
   "id": "c3d9df07",
   "metadata": {},
   "outputs": [
    {
     "data": {
      "text/plain": [
       "<Axes: xlabel='primary_fuel', ylabel='latitude'>"
      ]
     },
     "execution_count": 31,
     "metadata": {},
     "output_type": "execute_result"
    },
    {
     "data": {
      "image/png": "[encoded data removed]",
      "text/plain": [
       "<Figure size 800x400 with 1 Axes>"
      ]
     },
     "metadata": {},
     "output_type": "display_data"
    }
   ],
   "source": [
    "plt.figure(figsize=(8,4))\n",
    "sns.scatterplot(x='primary_fuel',y='latitude',data=df)\n"
   ]
  },
  {
   "cell_type": "code",
   "execution_count": 32,
   "id": "4c6aec0d",
   "metadata": {},
   "outputs": [
    {
     "data": {
      "text/plain": [
       "<Axes: xlabel='capacity_mw', ylabel='primary_fuel'>"
      ]
     },
     "execution_count": 32,
     "metadata": {},
     "output_type": "execute_result"
    },
    {
     "data": {
      "image/png": "[encoded data removed]",
      "text/plain": [
       "<Figure size 800x400 with 1 Axes>"
      ]
     },
     "metadata": {},
     "output_type": "display_data"
    }
   ],
   "source": [
    "plt.figure(figsize=(8,4))\n",
    "sns.scatterplot(x='capacity_mw',y='primary_fuel',data=df)\n"
   ]
  },
  {
   "cell_type": "markdown",
   "id": "6f8a387a",
   "metadata": {},
   "source": [
    "From here we can see that coal has maximum electrical generating capacity in megawatts."
   ]
  },
  {
   "cell_type": "markdown",
   "id": "4b407a11",
   "metadata": {},
   "source": [
    "### Using LabelEncoder for converting categorical to numerical"
   ]
  },
  {
   "cell_type": "code",
   "execution_count": 33,
   "id": "b53a5ac2",
   "metadata": {},
   "outputs": [
    {
     "name": "stdout",
     "output_type": "stream",
     "text": [
      "<class 'pandas.core.frame.DataFrame'>\n",
      "RangeIndex: 907 entries, 0 to 906\n",
      "Data columns (total 14 columns):\n",
      " #   Column                  Non-Null Count  Dtype  \n",
      "---  ------                  --------------  -----  \n",
      " 0   capacity_mw             907 non-null    float64\n",
      " 1   latitude                907 non-null    float64\n",
      " 2   longitude               907 non-null    float64\n",
      " 3   primary_fuel            907 non-null    object \n",
      " 4   commissioning_year      907 non-null    float64\n",
      " 5   source                  907 non-null    object \n",
      " 6   geolocation_source      907 non-null    object \n",
      " 7   generation_gwh_2013     907 non-null    float64\n",
      " 8   generation_gwh_2014     907 non-null    float64\n",
      " 9   generation_gwh_2015     907 non-null    float64\n",
      " 10  generation_gwh_2016     907 non-null    float64\n",
      " 11  generation_gwh_2017     907 non-null    float64\n",
      " 12  generation_gwh_2018     907 non-null    float64\n",
      " 13  generation_data_source  907 non-null    object \n",
      "dtypes: float64(10), object(4)\n",
      "memory usage: 99.3+ KB\n"
     ]
    }
   ],
   "source": [
    "df.info()"
   ]
  },
  {
   "cell_type": "code",
   "execution_count": 34,
   "id": "2b5fa1cc",
   "metadata": {},
   "outputs": [],
   "source": [
    "from sklearn.preprocessing import LabelEncoder"
   ]
  },
  {
   "cell_type": "code",
   "execution_count": 35,
   "id": "a27db687",
   "metadata": {},
   "outputs": [
    {
     "data": {
      "text/plain": [
       "array(['Solar', 'Coal', 'Wind', 'Gas', 'Hydro', 'Biomass', 'Oil',\n",
       "       'Nuclear'], dtype=object)"
      ]
     },
     "execution_count": 35,
     "metadata": {},
     "output_type": "execute_result"
    }
   ],
   "source": [
    "df['primary_fuel'].unique()"
   ]
  },
  {
   "cell_type": "code",
   "execution_count": 36,
   "id": "ed934c27",
   "metadata": {},
   "outputs": [
    {
     "data": {
      "text/plain": [
       "array(['National Renewable Energy Laboratory', 'WRI', 'Industry About'],\n",
       "      dtype=object)"
      ]
     },
     "execution_count": 36,
     "metadata": {},
     "output_type": "execute_result"
    }
   ],
   "source": [
    "df['geolocation_source'].unique()"
   ]
  },
  {
   "cell_type": "code",
   "execution_count": 37,
   "id": "8d3811d8",
   "metadata": {},
   "outputs": [],
   "source": [
    "encoder=LabelEncoder()\n",
    "df['primary_fuel']=encoder.fit_transform(df['primary_fuel'])\n",
    "df['geolocation_source']=encoder.fit_transform(df['geolocation_source'])\n",
    "df['source']=encoder.fit_transform(df['source'])\n",
    "#df['generation_data_source']=encoder.fit_transform(df['generation_data_source'])\n"
   ]
  },
  {
   "cell_type": "code",
   "execution_count": 38,
   "id": "b1144255",
   "metadata": {},
   "outputs": [
    {
     "name": "stdout",
     "output_type": "stream",
     "text": [
      "<class 'pandas.core.frame.DataFrame'>\n",
      "RangeIndex: 907 entries, 0 to 906\n",
      "Data columns (total 14 columns):\n",
      " #   Column                  Non-Null Count  Dtype  \n",
      "---  ------                  --------------  -----  \n",
      " 0   capacity_mw             907 non-null    float64\n",
      " 1   latitude                907 non-null    float64\n",
      " 2   longitude               907 non-null    float64\n",
      " 3   primary_fuel            907 non-null    int32  \n",
      " 4   commissioning_year      907 non-null    float64\n",
      " 5   source                  907 non-null    int32  \n",
      " 6   geolocation_source      907 non-null    int32  \n",
      " 7   generation_gwh_2013     907 non-null    float64\n",
      " 8   generation_gwh_2014     907 non-null    float64\n",
      " 9   generation_gwh_2015     907 non-null    float64\n",
      " 10  generation_gwh_2016     907 non-null    float64\n",
      " 11  generation_gwh_2017     907 non-null    float64\n",
      " 12  generation_gwh_2018     907 non-null    float64\n",
      " 13  generation_data_source  907 non-null    object \n",
      "dtypes: float64(10), int32(3), object(1)\n",
      "memory usage: 88.7+ KB\n"
     ]
    }
   ],
   "source": [
    "df.info()"
   ]
  },
  {
   "cell_type": "code",
   "execution_count": 39,
   "id": "26b27468",
   "metadata": {},
   "outputs": [
    {
     "data": {
      "text/plain": [
       "array([59.2, 'Central Electricity Authority'], dtype=object)"
      ]
     },
     "execution_count": 39,
     "metadata": {},
     "output_type": "execute_result"
    }
   ],
   "source": [
    "df['generation_data_source'].unique()"
   ]
  },
  {
   "cell_type": "code",
   "execution_count": 40,
   "id": "d07c66e8",
   "metadata": {},
   "outputs": [],
   "source": [
    "df.drop('generation_data_source',axis=1,inplace=True)"
   ]
  },
  {
   "cell_type": "code",
   "execution_count": 41,
   "id": "a9239a3e",
   "metadata": {},
   "outputs": [
    {
     "data": {
      "text/plain": [
       "array([1, 2, 0])"
      ]
     },
     "execution_count": 41,
     "metadata": {},
     "output_type": "execute_result"
    }
   ],
   "source": [
    "df['geolocation_source'].unique()"
   ]
  },
  {
   "cell_type": "code",
   "execution_count": 42,
   "id": "1e063241",
   "metadata": {},
   "outputs": [
    {
     "name": "stdout",
     "output_type": "stream",
     "text": [
      "<class 'pandas.core.frame.DataFrame'>\n",
      "RangeIndex: 907 entries, 0 to 906\n",
      "Data columns (total 13 columns):\n",
      " #   Column               Non-Null Count  Dtype  \n",
      "---  ------               --------------  -----  \n",
      " 0   capacity_mw          907 non-null    float64\n",
      " 1   latitude             907 non-null    float64\n",
      " 2   longitude            907 non-null    float64\n",
      " 3   primary_fuel         907 non-null    int32  \n",
      " 4   commissioning_year   907 non-null    float64\n",
      " 5   source               907 non-null    int32  \n",
      " 6   geolocation_source   907 non-null    int32  \n",
      " 7   generation_gwh_2013  907 non-null    float64\n",
      " 8   generation_gwh_2014  907 non-null    float64\n",
      " 9   generation_gwh_2015  907 non-null    float64\n",
      " 10  generation_gwh_2016  907 non-null    float64\n",
      " 11  generation_gwh_2017  907 non-null    float64\n",
      " 12  generation_gwh_2018  907 non-null    float64\n",
      "dtypes: float64(10), int32(3)\n",
      "memory usage: 81.6 KB\n"
     ]
    }
   ],
   "source": [
    "df.info()"
   ]
  },
  {
   "cell_type": "markdown",
   "id": "8b0ba839",
   "metadata": {},
   "source": [
    "Now all columns are converted into numerical."
   ]
  },
  {
   "cell_type": "markdown",
   "id": "34a6b1f6",
   "metadata": {},
   "source": [
    "# Z Score"
   ]
  },
  {
   "cell_type": "code",
   "execution_count": 43,
   "id": "dc9846f2",
   "metadata": {},
   "outputs": [
    {
     "name": "stdout",
     "output_type": "stream",
     "text": [
      "(array([ 15,  15,  15,  15,  15,  87, 135, 143, 143, 143, 143, 143, 143,\n",
      "       147, 158, 209, 209, 209, 209, 209, 209, 262, 308, 308, 308, 308,\n",
      "       308, 308, 363, 364, 364, 364, 364, 364, 364, 375, 447, 482, 493,\n",
      "       493, 493, 493, 493, 493, 494, 494, 494, 494, 494, 494, 519, 532,\n",
      "       623, 648, 648, 648, 648, 648, 648, 657, 657, 657, 657, 657, 657,\n",
      "       695, 695, 695, 695, 695, 695, 718, 721, 721, 721, 721, 721, 724,\n",
      "       724, 724, 724, 724, 726, 726, 726, 726, 726, 726, 765, 767, 786,\n",
      "       786, 786, 786, 786, 786, 788, 808, 808, 808, 808, 808, 808, 855,\n",
      "       879, 880, 880, 880, 880, 880, 880, 884], dtype=int64), array([2, 3, 4, 5, 6, 0, 0, 1, 2, 3, 4, 5, 6, 6, 1, 1, 2, 3, 4, 5, 6, 0,\n",
      "       1, 2, 3, 4, 5, 6, 6, 1, 2, 3, 4, 5, 6, 6, 0, 6, 1, 2, 3, 4, 5, 6,\n",
      "       1, 2, 3, 4, 5, 6, 0, 1, 1, 1, 2, 3, 4, 5, 6, 1, 2, 3, 4, 5, 6, 1,\n",
      "       2, 3, 4, 5, 6, 0, 1, 2, 3, 4, 5, 1, 2, 3, 4, 5, 1, 2, 3, 4, 5, 6,\n",
      "       0, 6, 1, 2, 3, 4, 5, 6, 6, 1, 2, 3, 4, 5, 6, 0, 0, 1, 2, 3, 4, 5,\n",
      "       6, 0], dtype=int64))\n"
     ]
    }
   ],
   "source": [
    "from scipy.stats import zscore\n",
    "z=np.abs(zscore(df[['generation_gwh_2013','generation_gwh_2014','generation_gwh_2015','generation_gwh_2016','generation_gwh_2017','generation_gwh_2018','capacity_mw']]))\n",
    "print(np.where(z>3))"
   ]
  },
  {
   "cell_type": "code",
   "execution_count": 44,
   "id": "3dadba31",
   "metadata": {},
   "outputs": [
    {
     "name": "stdout",
     "output_type": "stream",
     "text": [
      "Shape of the dataframe before removing outliers:  (907, 13)\n",
      "Shape of the dataframe after removing outliers:  (872, 13)\n",
      "Percentage of data loss post outlier removal:  3.8588754134509373\n"
     ]
    }
   ],
   "source": [
    "z=np.abs(zscore(df[['generation_gwh_2013','generation_gwh_2014','generation_gwh_2015','generation_gwh_2016','generation_gwh_2017','generation_gwh_2018','capacity_mw']]))\n",
    "threshold=3\n",
    "df1 = df[(z<3).all(axis = 1)]\n",
    "\n",
    "print (\"Shape of the dataframe before removing outliers: \", df.shape)\n",
    "print (\"Shape of the dataframe after removing outliers: \", df1.shape)\n",
    "print (\"Percentage of data loss post outlier removal: \", (df.shape[0]-df1.shape[0])/df.shape[0]*100)\n",
    "\n",
    "df=df1.copy()"
   ]
  },
  {
   "cell_type": "code",
   "execution_count": 45,
   "id": "e3925ddf",
   "metadata": {},
   "outputs": [
    {
     "data": {
      "text/plain": [
       "(872, 13)"
      ]
     },
     "execution_count": 45,
     "metadata": {},
     "output_type": "execute_result"
    }
   ],
   "source": [
    "df.shape"
   ]
  },
  {
   "cell_type": "markdown",
   "id": "56317187",
   "metadata": {},
   "source": [
    "# Skewness Handling"
   ]
  },
  {
   "cell_type": "code",
   "execution_count": 46,
   "id": "02486e61",
   "metadata": {},
   "outputs": [
    {
     "data": {
      "image/png": "[encoded data removed]",
      "text/plain": [
       "<Figure size 1800x2400 with 13 Axes>"
      ]
     },
     "metadata": {},
     "output_type": "display_data"
    }
   ],
   "source": [
    "plt.figure(figsize=(18,24))\n",
    "for i in enumerate(df):\n",
    "    plt.subplot(8,4,i[0]+1)\n",
    "    sns.distplot(df[i[1]],color='g')"
   ]
  },
  {
   "cell_type": "code",
   "execution_count": 47,
   "id": "e81eae98",
   "metadata": {},
   "outputs": [
    {
     "data": {
      "text/plain": [
       "capacity_mw            2.045057\n",
       "latitude               1.923177\n",
       "longitude             -0.291232\n",
       "primary_fuel           0.423478\n",
       "commissioning_year    -0.306237\n",
       "source                 1.782257\n",
       "geolocation_source    -2.093441\n",
       "generation_gwh_2013    5.292559\n",
       "generation_gwh_2014    2.870849\n",
       "generation_gwh_2015    2.702937\n",
       "generation_gwh_2016    2.630682\n",
       "generation_gwh_2017    2.539093\n",
       "generation_gwh_2018    2.585727\n",
       "dtype: float64"
      ]
     },
     "execution_count": 47,
     "metadata": {},
     "output_type": "execute_result"
    }
   ],
   "source": [
    "df.skew()"
   ]
  },
  {
   "cell_type": "markdown",
   "id": "12017252",
   "metadata": {},
   "source": [
    "Skewness more than +/- 0.5 will be treated\n",
    "\n",
    "Object columns will not be treated."
   ]
  },
  {
   "cell_type": "code",
   "execution_count": 48,
   "id": "3b3f1eb7",
   "metadata": {},
   "outputs": [],
   "source": [
    "from sklearn.preprocessing import power_transform"
   ]
  },
  {
   "cell_type": "code",
   "execution_count": 49,
   "id": "cd7c5093",
   "metadata": {},
   "outputs": [],
   "source": [
    "df[['capacity_mw','generation_gwh_2013','generation_gwh_2014','generation_gwh_2015','generation_gwh_2016','generation_gwh_2017','generation_gwh_2018']]=power_transform(df[['capacity_mw','generation_gwh_2013','generation_gwh_2014','generation_gwh_2015','generation_gwh_2016','generation_gwh_2017','generation_gwh_2018']])\n"
   ]
  },
  {
   "cell_type": "code",
   "execution_count": 50,
   "id": "5c750bbb",
   "metadata": {},
   "outputs": [
    {
     "data": {
      "text/plain": [
       "capacity_mw            0.016763\n",
       "latitude               1.923177\n",
       "longitude             -0.291232\n",
       "primary_fuel           0.423478\n",
       "commissioning_year    -0.306237\n",
       "source                 1.782257\n",
       "geolocation_source    -2.093441\n",
       "generation_gwh_2013   -0.017776\n",
       "generation_gwh_2014   -0.016997\n",
       "generation_gwh_2015   -0.015270\n",
       "generation_gwh_2016   -0.010386\n",
       "generation_gwh_2017   -0.005460\n",
       "generation_gwh_2018   -0.000411\n",
       "dtype: float64"
      ]
     },
     "execution_count": 50,
     "metadata": {},
     "output_type": "execute_result"
    }
   ],
   "source": [
    "df.skew()"
   ]
  },
  {
   "cell_type": "markdown",
   "id": "f6be50ac",
   "metadata": {},
   "source": [
    "# First taking capacity_mw as target variable and making regression model"
   ]
  },
  {
   "cell_type": "markdown",
   "id": "f81e181c",
   "metadata": {},
   "source": [
    "### Dividing data in to x and y"
   ]
  },
  {
   "cell_type": "code",
   "execution_count": 51,
   "id": "f76faf8e",
   "metadata": {},
   "outputs": [],
   "source": [
    "x=df.drop(['capacity_mw'], axis=1)\n",
    "y=df['capacity_mw']"
   ]
  },
  {
   "cell_type": "code",
   "execution_count": 52,
   "id": "35bb5a55",
   "metadata": {},
   "outputs": [
    {
     "data": {
      "text/plain": [
       "(872, 12)"
      ]
     },
     "execution_count": 52,
     "metadata": {},
     "output_type": "execute_result"
    }
   ],
   "source": [
    "x.shape"
   ]
  },
  {
   "cell_type": "code",
   "execution_count": 53,
   "id": "966f94d8",
   "metadata": {},
   "outputs": [
    {
     "data": {
      "text/plain": [
       "(872,)"
      ]
     },
     "execution_count": 53,
     "metadata": {},
     "output_type": "execute_result"
    }
   ],
   "source": [
    "y.shape"
   ]
  },
  {
   "cell_type": "markdown",
   "id": "7d633155",
   "metadata": {},
   "source": [
    "## Scaling x values"
   ]
  },
  {
   "cell_type": "code",
   "execution_count": 54,
   "id": "ad6713d8",
   "metadata": {},
   "outputs": [],
   "source": [
    "from sklearn.preprocessing import MinMaxScaler\n",
    "scaler=MinMaxScaler()\n",
    "x=scaler.fit_transform(x)\n"
   ]
  },
  {
   "cell_type": "code",
   "execution_count": 55,
   "id": "7f0c46ef",
   "metadata": {},
   "outputs": [
    {
     "data": {
      "text/plain": [
       "0     0\n",
       "1     0\n",
       "2     0\n",
       "3     0\n",
       "4     0\n",
       "5     0\n",
       "6     0\n",
       "7     0\n",
       "8     0\n",
       "9     0\n",
       "10    0\n",
       "11    0\n",
       "dtype: int64"
      ]
     },
     "execution_count": 55,
     "metadata": {},
     "output_type": "execute_result"
    }
   ],
   "source": [
    "pd.DataFrame(x).isnull().sum()"
   ]
  },
  {
   "cell_type": "code",
   "execution_count": 56,
   "id": "0d7bdc0b",
   "metadata": {},
   "outputs": [
    {
     "data": {
      "text/html": [
       "<div>\n",
       "<style scoped>\n",
       "    .dataframe tbody tr th:only-of-type {\n",
       "        vertical-align: middle;\n",
       "    }\n",
       "\n",
       "    .dataframe tbody tr th {\n",
       "        vertical-align: top;\n",
       "    }\n",
       "\n",
       "    .dataframe thead th {\n",
       "        text-align: right;\n",
       "    }\n",
       "</style>\n",
       "<table border=\"1\" class=\"dataframe\">\n",
       "  <thead>\n",
       "    <tr style=\"text-align: right;\">\n",
       "      <th></th>\n",
       "      <th>0</th>\n",
       "      <th>1</th>\n",
       "      <th>2</th>\n",
       "      <th>3</th>\n",
       "      <th>4</th>\n",
       "      <th>5</th>\n",
       "      <th>6</th>\n",
       "      <th>7</th>\n",
       "      <th>8</th>\n",
       "      <th>9</th>\n",
       "      <th>10</th>\n",
       "      <th>11</th>\n",
       "    </tr>\n",
       "  </thead>\n",
       "  <tbody>\n",
       "    <tr>\n",
       "      <th>count</th>\n",
       "      <td>872.000000</td>\n",
       "      <td>872.000000</td>\n",
       "      <td>872.000000</td>\n",
       "      <td>872.000000</td>\n",
       "      <td>872.000000</td>\n",
       "      <td>872.000000</td>\n",
       "      <td>872.000000</td>\n",
       "      <td>872.000000</td>\n",
       "      <td>872.000000</td>\n",
       "      <td>872.000000</td>\n",
       "      <td>872.000000</td>\n",
       "      <td>872.000000</td>\n",
       "    </tr>\n",
       "    <tr>\n",
       "      <th>mean</th>\n",
       "      <td>0.293023</td>\n",
       "      <td>0.475757</td>\n",
       "      <td>0.467726</td>\n",
       "      <td>0.569442</td>\n",
       "      <td>0.233679</td>\n",
       "      <td>0.861239</td>\n",
       "      <td>0.677529</td>\n",
       "      <td>0.570573</td>\n",
       "      <td>0.573383</td>\n",
       "      <td>0.568417</td>\n",
       "      <td>0.566347</td>\n",
       "      <td>0.550685</td>\n",
       "    </tr>\n",
       "    <tr>\n",
       "      <th>std</th>\n",
       "      <td>0.204013</td>\n",
       "      <td>0.172453</td>\n",
       "      <td>0.325847</td>\n",
       "      <td>0.489203</td>\n",
       "      <td>0.236739</td>\n",
       "      <td>0.344232</td>\n",
       "      <td>0.049482</td>\n",
       "      <td>0.195890</td>\n",
       "      <td>0.198411</td>\n",
       "      <td>0.202481</td>\n",
       "      <td>0.210066</td>\n",
       "      <td>0.215256</td>\n",
       "    </tr>\n",
       "    <tr>\n",
       "      <th>min</th>\n",
       "      <td>0.000000</td>\n",
       "      <td>0.000000</td>\n",
       "      <td>0.000000</td>\n",
       "      <td>0.000000</td>\n",
       "      <td>0.000000</td>\n",
       "      <td>0.000000</td>\n",
       "      <td>0.000000</td>\n",
       "      <td>0.000000</td>\n",
       "      <td>0.000000</td>\n",
       "      <td>0.000000</td>\n",
       "      <td>0.000000</td>\n",
       "      <td>0.000000</td>\n",
       "    </tr>\n",
       "    <tr>\n",
       "      <th>25%</th>\n",
       "      <td>0.171754</td>\n",
       "      <td>0.400875</td>\n",
       "      <td>0.142857</td>\n",
       "      <td>0.000000</td>\n",
       "      <td>0.115789</td>\n",
       "      <td>1.000000</td>\n",
       "      <td>0.663766</td>\n",
       "      <td>0.480225</td>\n",
       "      <td>0.481237</td>\n",
       "      <td>0.471523</td>\n",
       "      <td>0.465258</td>\n",
       "      <td>0.447027</td>\n",
       "    </tr>\n",
       "    <tr>\n",
       "      <th>50%</th>\n",
       "      <td>0.273419</td>\n",
       "      <td>0.475443</td>\n",
       "      <td>0.428571</td>\n",
       "      <td>0.978558</td>\n",
       "      <td>0.115789</td>\n",
       "      <td>1.000000</td>\n",
       "      <td>0.671147</td>\n",
       "      <td>0.480225</td>\n",
       "      <td>0.481237</td>\n",
       "      <td>0.471523</td>\n",
       "      <td>0.465258</td>\n",
       "      <td>0.447027</td>\n",
       "    </tr>\n",
       "    <tr>\n",
       "      <th>75%</th>\n",
       "      <td>0.365138</td>\n",
       "      <td>0.549988</td>\n",
       "      <td>0.857143</td>\n",
       "      <td>0.992342</td>\n",
       "      <td>0.190789</td>\n",
       "      <td>1.000000</td>\n",
       "      <td>0.671147</td>\n",
       "      <td>0.698130</td>\n",
       "      <td>0.707429</td>\n",
       "      <td>0.700877</td>\n",
       "      <td>0.705354</td>\n",
       "      <td>0.695407</td>\n",
       "    </tr>\n",
       "    <tr>\n",
       "      <th>max</th>\n",
       "      <td>1.000000</td>\n",
       "      <td>1.000000</td>\n",
       "      <td>1.000000</td>\n",
       "      <td>1.000000</td>\n",
       "      <td>1.000000</td>\n",
       "      <td>1.000000</td>\n",
       "      <td>1.000000</td>\n",
       "      <td>1.000000</td>\n",
       "      <td>1.000000</td>\n",
       "      <td>1.000000</td>\n",
       "      <td>1.000000</td>\n",
       "      <td>1.000000</td>\n",
       "    </tr>\n",
       "  </tbody>\n",
       "</table>\n",
       "</div>"
      ],
      "text/plain": [
       "               0           1           2           3           4           5   \\\n",
       "count  872.000000  872.000000  872.000000  872.000000  872.000000  872.000000   \n",
       "mean     0.293023    0.475757    0.467726    0.569442    0.233679    0.861239   \n",
       "std      0.204013    0.172453    0.325847    0.489203    0.236739    0.344232   \n",
       "min      0.000000    0.000000    0.000000    0.000000    0.000000    0.000000   \n",
       "25%      0.171754    0.400875    0.142857    0.000000    0.115789    1.000000   \n",
       "50%      0.273419    0.475443    0.428571    0.978558    0.115789    1.000000   \n",
       "75%      0.365138    0.549988    0.857143    0.992342    0.190789    1.000000   \n",
       "max      1.000000    1.000000    1.000000    1.000000    1.000000    1.000000   \n",
       "\n",
       "               6           7           8           9           10          11  \n",
       "count  872.000000  872.000000  872.000000  872.000000  872.000000  872.000000  \n",
       "mean     0.677529    0.570573    0.573383    0.568417    0.566347    0.550685  \n",
       "std      0.049482    0.195890    0.198411    0.202481    0.210066    0.215256  \n",
       "min      0.000000    0.000000    0.000000    0.000000    0.000000    0.000000  \n",
       "25%      0.663766    0.480225    0.481237    0.471523    0.465258    0.447027  \n",
       "50%      0.671147    0.480225    0.481237    0.471523    0.465258    0.447027  \n",
       "75%      0.671147    0.698130    0.707429    0.700877    0.705354    0.695407  \n",
       "max      1.000000    1.000000    1.000000    1.000000    1.000000    1.000000  "
      ]
     },
     "execution_count": 56,
     "metadata": {},
     "output_type": "execute_result"
    }
   ],
   "source": [
    "pd.DataFrame(x).describe()"
   ]
  },
  {
   "cell_type": "markdown",
   "id": "18cd8ca4",
   "metadata": {},
   "source": [
    "## Model Building"
   ]
  },
  {
   "cell_type": "markdown",
   "id": "410a46c6",
   "metadata": {},
   "source": [
    "### Linear Regression"
   ]
  },
  {
   "cell_type": "code",
   "execution_count": 57,
   "id": "92037dab",
   "metadata": {},
   "outputs": [],
   "source": [
    "from sklearn.metrics import mean_squared_error, mean_absolute_error\n",
    "from sklearn.metrics import r2_score\n",
    "from sklearn.model_selection import train_test_split\n",
    "from sklearn.model_selection import cross_val_score\n"
   ]
  },
  {
   "cell_type": "markdown",
   "id": "604c883a",
   "metadata": {},
   "source": [
    "## Checking the best Random State for Data Split"
   ]
  },
  {
   "cell_type": "code",
   "execution_count": 58,
   "id": "21afacb9",
   "metadata": {},
   "outputs": [],
   "source": [
    "from sklearn.linear_model import LinearRegression"
   ]
  },
  {
   "cell_type": "code",
   "execution_count": 59,
   "id": "eb7a220c",
   "metadata": {},
   "outputs": [
    {
     "name": "stdout",
     "output_type": "stream",
     "text": [
      "At random state 0, The training accuracy is: 0.6168753214490523\n",
      "At random state 0, The test accuracy is: 0.5330081861282279\n",
      "\n",
      "\n",
      "At random state 1, The training accuracy is: 0.5889173586257426\n",
      "At random state 1, The test accuracy is: 0.6518787158707491\n",
      "\n",
      "\n",
      "At random state 2, The training accuracy is: 0.6063060419432321\n",
      "At random state 2, The test accuracy is: 0.5811852146246024\n",
      "\n",
      "\n",
      "At random state 3, The training accuracy is: 0.6043308955718278\n",
      "At random state 3, The test accuracy is: 0.5898647313021451\n",
      "\n",
      "\n",
      "At random state 4, The training accuracy is: 0.603651658728769\n",
      "At random state 4, The test accuracy is: 0.5935916614786756\n",
      "\n",
      "\n",
      "At random state 5, The training accuracy is: 0.5799253744123436\n",
      "At random state 5, The test accuracy is: 0.6852530832312992\n",
      "\n",
      "\n",
      "At random state 6, The training accuracy is: 0.5970269702816153\n",
      "At random state 6, The test accuracy is: 0.606814096334772\n",
      "\n",
      "\n",
      "At random state 7, The training accuracy is: 0.5972910859753722\n",
      "At random state 7, The test accuracy is: 0.6204232225399087\n",
      "\n",
      "\n",
      "At random state 8, The training accuracy is: 0.5873525091909223\n",
      "At random state 8, The test accuracy is: 0.6552562269944535\n",
      "\n",
      "\n",
      "At random state 9, The training accuracy is: 0.5947567510973613\n",
      "At random state 9, The test accuracy is: 0.6307154512691556\n",
      "\n",
      "\n",
      "At random state 10, The training accuracy is: 0.594699211234691\n",
      "At random state 10, The test accuracy is: 0.6299060366159783\n",
      "\n",
      "\n",
      "At random state 11, The training accuracy is: 0.614132427756598\n",
      "At random state 11, The test accuracy is: 0.5502827125518943\n",
      "\n",
      "\n",
      "At random state 12, The training accuracy is: 0.6134257755748984\n",
      "At random state 12, The test accuracy is: 0.5509220718827181\n",
      "\n",
      "\n",
      "At random state 13, The training accuracy is: 0.5986199768889555\n",
      "At random state 13, The test accuracy is: 0.6138911890849199\n",
      "\n",
      "\n",
      "At random state 14, The training accuracy is: 0.6017100937868153\n",
      "At random state 14, The test accuracy is: 0.5942211310635168\n",
      "\n",
      "\n",
      "At random state 15, The training accuracy is: 0.6103868439632401\n",
      "At random state 15, The test accuracy is: 0.5641037643758866\n",
      "\n",
      "\n",
      "At random state 16, The training accuracy is: 0.6183721359401713\n",
      "At random state 16, The test accuracy is: 0.5281177385466512\n",
      "\n",
      "\n",
      "At random state 17, The training accuracy is: 0.6083112128728678\n",
      "At random state 17, The test accuracy is: 0.5715009591683144\n",
      "\n",
      "\n",
      "At random state 18, The training accuracy is: 0.6271169339287384\n",
      "At random state 18, The test accuracy is: 0.4843929646126651\n",
      "\n",
      "\n",
      "At random state 19, The training accuracy is: 0.6017394257430233\n",
      "At random state 19, The test accuracy is: 0.598605697318755\n",
      "\n",
      "\n",
      "At random state 20, The training accuracy is: 0.6035976520414332\n",
      "At random state 20, The test accuracy is: 0.5952562957225256\n",
      "\n",
      "\n",
      "At random state 21, The training accuracy is: 0.621679260031734\n",
      "At random state 21, The test accuracy is: 0.5175211442376135\n",
      "\n",
      "\n",
      "At random state 22, The training accuracy is: 0.6059175693129395\n",
      "At random state 22, The test accuracy is: 0.5851209558115007\n",
      "\n",
      "\n",
      "At random state 23, The training accuracy is: 0.6064932061817156\n",
      "At random state 23, The test accuracy is: 0.5780230827902955\n",
      "\n",
      "\n",
      "At random state 24, The training accuracy is: 0.6034032776090821\n",
      "At random state 24, The test accuracy is: 0.5939159815380668\n",
      "\n",
      "\n",
      "At random state 25, The training accuracy is: 0.5998789235936861\n",
      "At random state 25, The test accuracy is: 0.6041111595452175\n",
      "\n",
      "\n",
      "At random state 26, The training accuracy is: 0.5944765695954193\n",
      "At random state 26, The test accuracy is: 0.6299964920161417\n",
      "\n",
      "\n",
      "At random state 27, The training accuracy is: 0.6209838701343847\n",
      "At random state 27, The test accuracy is: 0.5019752626171117\n",
      "\n",
      "\n",
      "At random state 28, The training accuracy is: 0.607768747354451\n",
      "At random state 28, The test accuracy is: 0.571113301637338\n",
      "\n",
      "\n",
      "At random state 29, The training accuracy is: 0.6078401405946507\n",
      "At random state 29, The test accuracy is: 0.576744778037156\n",
      "\n",
      "\n",
      "At random state 30, The training accuracy is: 0.6070193816544951\n",
      "At random state 30, The test accuracy is: 0.5710236691017073\n",
      "\n",
      "\n",
      "At random state 31, The training accuracy is: 0.6003272888362101\n",
      "At random state 31, The test accuracy is: 0.6059133281804274\n",
      "\n",
      "\n",
      "At random state 32, The training accuracy is: 0.6208200808228352\n",
      "At random state 32, The test accuracy is: 0.5240601728409953\n",
      "\n",
      "\n",
      "At random state 33, The training accuracy is: 0.6058335766943703\n",
      "At random state 33, The test accuracy is: 0.5794958768361231\n",
      "\n",
      "\n",
      "At random state 34, The training accuracy is: 0.6138578820412319\n",
      "At random state 34, The test accuracy is: 0.5390791252424671\n",
      "\n",
      "\n",
      "At random state 35, The training accuracy is: 0.6033541549268782\n",
      "At random state 35, The test accuracy is: 0.5920681604696866\n",
      "\n",
      "\n",
      "At random state 36, The training accuracy is: 0.6110249974336759\n",
      "At random state 36, The test accuracy is: 0.5496038288105942\n",
      "\n",
      "\n",
      "At random state 37, The training accuracy is: 0.6036131805750278\n",
      "At random state 37, The test accuracy is: 0.5892242015936457\n",
      "\n",
      "\n",
      "At random state 38, The training accuracy is: 0.6101860663946088\n",
      "At random state 38, The test accuracy is: 0.5611971683323085\n",
      "\n",
      "\n",
      "At random state 39, The training accuracy is: 0.617292222523358\n",
      "At random state 39, The test accuracy is: 0.5405591813384993\n",
      "\n",
      "\n",
      "At random state 40, The training accuracy is: 0.6084006862064588\n",
      "At random state 40, The test accuracy is: 0.5649148117027185\n",
      "\n",
      "\n",
      "At random state 41, The training accuracy is: 0.6221285227288348\n",
      "At random state 41, The test accuracy is: 0.5006009557192636\n",
      "\n",
      "\n",
      "At random state 42, The training accuracy is: 0.6124865460159269\n",
      "At random state 42, The test accuracy is: 0.5633242906692135\n",
      "\n",
      "\n",
      "At random state 43, The training accuracy is: 0.6157255644938355\n",
      "At random state 43, The test accuracy is: 0.538899692611744\n",
      "\n",
      "\n",
      "At random state 44, The training accuracy is: 0.5980758731069711\n",
      "At random state 44, The test accuracy is: 0.6133683933613485\n",
      "\n",
      "\n",
      "At random state 45, The training accuracy is: 0.5941662656959896\n",
      "At random state 45, The test accuracy is: 0.6322343495785587\n",
      "\n",
      "\n",
      "At random state 46, The training accuracy is: 0.6032684099672323\n",
      "At random state 46, The test accuracy is: 0.5957731575560203\n",
      "\n",
      "\n",
      "At random state 47, The training accuracy is: 0.6212162975581463\n",
      "At random state 47, The test accuracy is: 0.5067884245473175\n",
      "\n",
      "\n",
      "At random state 48, The training accuracy is: 0.6146806849118192\n",
      "At random state 48, The test accuracy is: 0.5482157650973746\n",
      "\n",
      "\n",
      "At random state 49, The training accuracy is: 0.5990055896913979\n",
      "At random state 49, The test accuracy is: 0.6083253539408797\n",
      "\n",
      "\n",
      "At random state 50, The training accuracy is: 0.5988037059855862\n",
      "At random state 50, The test accuracy is: 0.6157476284784055\n",
      "\n",
      "\n",
      "At random state 51, The training accuracy is: 0.6107784691783907\n",
      "At random state 51, The test accuracy is: 0.5532999278793194\n",
      "\n",
      "\n",
      "At random state 52, The training accuracy is: 0.5972495888015183\n",
      "At random state 52, The test accuracy is: 0.6152448654084577\n",
      "\n",
      "\n",
      "At random state 53, The training accuracy is: 0.5822213614832104\n",
      "At random state 53, The test accuracy is: 0.6794605251210919\n",
      "\n",
      "\n",
      "At random state 54, The training accuracy is: 0.5929273501199117\n",
      "At random state 54, The test accuracy is: 0.6333889887812792\n",
      "\n",
      "\n",
      "At random state 55, The training accuracy is: 0.5974703954058554\n",
      "At random state 55, The test accuracy is: 0.6068589763113255\n",
      "\n",
      "\n",
      "At random state 56, The training accuracy is: 0.62854133706191\n",
      "At random state 56, The test accuracy is: 0.46112722271203144\n",
      "\n",
      "\n",
      "At random state 57, The training accuracy is: 0.6037764246641844\n",
      "At random state 57, The test accuracy is: 0.5899091006363311\n",
      "\n",
      "\n",
      "At random state 58, The training accuracy is: 0.5909369699248923\n",
      "At random state 58, The test accuracy is: 0.6302155399051359\n",
      "\n",
      "\n",
      "At random state 59, The training accuracy is: 0.6069447977732025\n",
      "At random state 59, The test accuracy is: 0.570444379903593\n",
      "\n",
      "\n",
      "At random state 60, The training accuracy is: 0.6075160542812189\n",
      "At random state 60, The test accuracy is: 0.5736256696292641\n",
      "\n",
      "\n",
      "At random state 61, The training accuracy is: 0.6109288685663696\n",
      "At random state 61, The test accuracy is: 0.5670287076036222\n",
      "\n",
      "\n",
      "At random state 62, The training accuracy is: 0.5938636496385212\n",
      "At random state 62, The test accuracy is: 0.6371225879829121\n",
      "\n",
      "\n",
      "At random state 63, The training accuracy is: 0.6245372973235384\n",
      "At random state 63, The test accuracy is: 0.5045829106666531\n",
      "\n",
      "\n",
      "At random state 64, The training accuracy is: 0.6133201607323877\n",
      "At random state 64, The test accuracy is: 0.546026946615985\n",
      "\n",
      "\n",
      "At random state 65, The training accuracy is: 0.5974879872844686\n",
      "At random state 65, The test accuracy is: 0.62427540235385\n",
      "\n",
      "\n",
      "At random state 66, The training accuracy is: 0.6009098672460798\n",
      "At random state 66, The test accuracy is: 0.6060804040489921\n",
      "\n",
      "\n",
      "At random state 67, The training accuracy is: 0.6121236549795764\n",
      "At random state 67, The test accuracy is: 0.5579627519043872\n",
      "\n",
      "\n",
      "At random state 68, The training accuracy is: 0.5989459871999872\n",
      "At random state 68, The test accuracy is: 0.6115697394499804\n",
      "\n",
      "\n",
      "At random state 69, The training accuracy is: 0.5953828177402589\n",
      "At random state 69, The test accuracy is: 0.6269355789845291\n",
      "\n",
      "\n",
      "At random state 70, The training accuracy is: 0.608588017798688\n",
      "At random state 70, The test accuracy is: 0.5757271305585694\n",
      "\n",
      "\n",
      "At random state 71, The training accuracy is: 0.5991895848303731\n",
      "At random state 71, The test accuracy is: 0.5979042130651766\n",
      "\n",
      "\n",
      "At random state 72, The training accuracy is: 0.6080344664810156\n",
      "At random state 72, The test accuracy is: 0.5611599707269108\n",
      "\n",
      "\n",
      "At random state 73, The training accuracy is: 0.5935632420222576\n",
      "At random state 73, The test accuracy is: 0.6206565281362464\n",
      "\n",
      "\n",
      "At random state 74, The training accuracy is: 0.6108515334588576\n",
      "At random state 74, The test accuracy is: 0.5509894320421946\n",
      "\n",
      "\n",
      "At random state 75, The training accuracy is: 0.6221571010400797\n",
      "At random state 75, The test accuracy is: 0.5013439614276952\n",
      "\n",
      "\n",
      "At random state 76, The training accuracy is: 0.5927784057120825\n",
      "At random state 76, The test accuracy is: 0.6263814873792835\n",
      "\n",
      "\n",
      "At random state 77, The training accuracy is: 0.5777550759888392\n",
      "At random state 77, The test accuracy is: 0.6772269614546548\n",
      "\n",
      "\n",
      "At random state 78, The training accuracy is: 0.5996362829328041\n",
      "At random state 78, The test accuracy is: 0.6146122350102834\n",
      "\n",
      "\n",
      "At random state 79, The training accuracy is: 0.5913603516001189\n",
      "At random state 79, The test accuracy is: 0.6457214989912291\n",
      "\n",
      "\n",
      "At random state 80, The training accuracy is: 0.6073361831990776\n",
      "At random state 80, The test accuracy is: 0.5741332193549173\n",
      "\n",
      "\n",
      "At random state 81, The training accuracy is: 0.6238029143950514\n",
      "At random state 81, The test accuracy is: 0.5094427058655947\n",
      "\n",
      "\n",
      "At random state 82, The training accuracy is: 0.5852416067350321\n",
      "At random state 82, The test accuracy is: 0.6500825420995588\n",
      "\n",
      "\n",
      "At random state 83, The training accuracy is: 0.6094862387426552\n",
      "At random state 83, The test accuracy is: 0.552220310369703\n",
      "\n",
      "\n",
      "At random state 84, The training accuracy is: 0.5959772633765001\n",
      "At random state 84, The test accuracy is: 0.6231161257367479\n",
      "\n",
      "\n",
      "At random state 85, The training accuracy is: 0.6158370513089411\n",
      "At random state 85, The test accuracy is: 0.5457311683005283\n",
      "\n",
      "\n",
      "At random state 86, The training accuracy is: 0.6073563964721518\n",
      "At random state 86, The test accuracy is: 0.5657680967585448\n",
      "\n",
      "\n",
      "At random state 87, The training accuracy is: 0.6069289896826484\n",
      "At random state 87, The test accuracy is: 0.5675816335487123\n",
      "\n",
      "\n",
      "At random state 88, The training accuracy is: 0.603717943048723\n",
      "At random state 88, The test accuracy is: 0.5970068894370077\n",
      "\n",
      "\n",
      "At random state 89, The training accuracy is: 0.594922723008428\n",
      "At random state 89, The test accuracy is: 0.6318601704361553\n",
      "\n",
      "\n",
      "At random state 90, The training accuracy is: 0.6054681460451274\n",
      "At random state 90, The test accuracy is: 0.5884712167616692\n",
      "\n",
      "\n",
      "At random state 91, The training accuracy is: 0.6156766311953445\n",
      "At random state 91, The test accuracy is: 0.539146404140681\n",
      "\n",
      "\n",
      "At random state 92, The training accuracy is: 0.6004595522162275\n",
      "At random state 92, The test accuracy is: 0.6024356968410635\n",
      "\n",
      "\n",
      "At random state 93, The training accuracy is: 0.6124159783924347\n",
      "At random state 93, The test accuracy is: 0.5524871231380972\n",
      "\n",
      "\n",
      "At random state 94, The training accuracy is: 0.5948655279295274\n",
      "At random state 94, The test accuracy is: 0.6132689026550633\n",
      "\n",
      "\n",
      "At random state 95, The training accuracy is: 0.6195810136468933\n",
      "At random state 95, The test accuracy is: 0.5254581557847001\n",
      "\n",
      "\n",
      "At random state 96, The training accuracy is: 0.6082068712544056\n",
      "At random state 96, The test accuracy is: 0.5713639209140973\n",
      "\n",
      "\n",
      "At random state 97, The training accuracy is: 0.5980510536649984\n",
      "At random state 97, The test accuracy is: 0.6151510438103687\n",
      "\n",
      "\n",
      "At random state 98, The training accuracy is: 0.5924112412190832\n",
      "At random state 98, The test accuracy is: 0.6419289814692735\n",
      "\n",
      "\n",
      "At random state 99, The training accuracy is: 0.6135532475630832\n",
      "At random state 99, The test accuracy is: 0.5418875773664826\n",
      "\n",
      "\n"
     ]
    }
   ],
   "source": [
    "lr= LinearRegression()\n",
    "for i in range(0,100):\n",
    "    x_train,x_test,y_train,y_test=train_test_split(x,y,test_size=0.2,random_state=i)\n",
    "    lr.fit(x_train,y_train)\n",
    "    lr_predict_train=lr.predict(x_train)\n",
    "    lr_predict_test=lr.predict(x_test)\n",
    "    print(f'At random state {i}, The training accuracy is: {r2_score(y_train,lr_predict_train)}')\n",
    "    print(f'At random state {i}, The test accuracy is: {r2_score(y_test,lr_predict_test)}')\n",
    "    print('\\n')"
   ]
  },
  {
   "cell_type": "markdown",
   "id": "ecb0cb94",
   "metadata": {},
   "source": [
    "## Spliting the data with Random state= 95"
   ]
  },
  {
   "cell_type": "code",
   "execution_count": 60,
   "id": "7291c6e5",
   "metadata": {},
   "outputs": [],
   "source": [
    "# Spliting the data into 73% training and 27% testing\n",
    "x_train,x_test,y_train,y_test= train_test_split(x,y,test_size=0.27,random_state=95)"
   ]
  },
  {
   "cell_type": "code",
   "execution_count": 61,
   "id": "eb0305bb",
   "metadata": {},
   "outputs": [
    {
     "data": {
      "text/plain": [
       "(636, 12)"
      ]
     },
     "execution_count": 61,
     "metadata": {},
     "output_type": "execute_result"
    }
   ],
   "source": [
    "x_train.shape"
   ]
  },
  {
   "cell_type": "code",
   "execution_count": 62,
   "id": "b091bd3d",
   "metadata": {},
   "outputs": [
    {
     "name": "stdout",
     "output_type": "stream",
     "text": [
      "0.6242420372430678\n"
     ]
    }
   ],
   "source": [
    "from sklearn.linear_model import LinearRegression\n",
    "lr=LinearRegression()\n",
    "lr.fit(x_train,y_train)\n",
    "print(lr.score(x_train,y_train))\n",
    "lr_predict=lr.predict(x_test)"
   ]
  },
  {
   "cell_type": "code",
   "execution_count": 63,
   "id": "e115a66d",
   "metadata": {},
   "outputs": [
    {
     "name": "stdout",
     "output_type": "stream",
     "text": [
      "MSE: 0.4432647875657471\n",
      "MAE: 0.5338254695863013\n",
      "r2_score: 0.17242049273839255\n"
     ]
    }
   ],
   "source": [
    "print('MSE:',mean_squared_error(lr_predict,y_test))\n",
    "print('MAE:',mean_absolute_error(lr_predict,y_test))\n",
    "print('r2_score:',r2_score(lr_predict,y_test))"
   ]
  },
  {
   "cell_type": "markdown",
   "id": "148c704e",
   "metadata": {},
   "source": [
    "# Ridge"
   ]
  },
  {
   "cell_type": "code",
   "execution_count": 64,
   "id": "aef17ab6",
   "metadata": {},
   "outputs": [
    {
     "name": "stdout",
     "output_type": "stream",
     "text": [
      "0.6236968099105211\n"
     ]
    }
   ],
   "source": [
    "from sklearn.linear_model import Ridge\n",
    "rg=Ridge()\n",
    "rg.fit(x_train,y_train)\n",
    "print(rg.score(x_train,y_train))\n",
    "rg_predict=rg.predict(x_test)"
   ]
  },
  {
   "cell_type": "code",
   "execution_count": 65,
   "id": "1be0843d",
   "metadata": {},
   "outputs": [
    {
     "name": "stdout",
     "output_type": "stream",
     "text": [
      "MSE: 0.43895447396123066\n",
      "MAE: 0.5335073551246778\n",
      "r2_score: 0.1627696663077819\n"
     ]
    }
   ],
   "source": [
    "print('MSE:',mean_squared_error(rg_predict,y_test))\n",
    "print('MAE:',mean_absolute_error(rg_predict,y_test))\n",
    "print('r2_score:',r2_score(rg_predict,y_test))"
   ]
  },
  {
   "cell_type": "markdown",
   "id": "7a941cb0",
   "metadata": {},
   "source": [
    "# SVR"
   ]
  },
  {
   "cell_type": "code",
   "execution_count": 66,
   "id": "32912305",
   "metadata": {},
   "outputs": [
    {
     "name": "stdout",
     "output_type": "stream",
     "text": [
      "0.588504504301569\n"
     ]
    }
   ],
   "source": [
    "from sklearn.svm import SVR\n",
    "svr=SVR(kernel='linear')\n",
    "svr.fit(x_train,y_train)\n",
    "print(svr.score(x_train,y_train))\n",
    "svr_predict=svr.predict(x_test)\n"
   ]
  },
  {
   "cell_type": "code",
   "execution_count": 67,
   "id": "051d3b9b",
   "metadata": {},
   "outputs": [
    {
     "name": "stdout",
     "output_type": "stream",
     "text": [
      "MSE: 0.4552804943535804\n",
      "MAE: 0.5020290892360908\n",
      "r2_score: 0.293862981180085\n"
     ]
    }
   ],
   "source": [
    "print('MSE:',mean_squared_error(svr_predict,y_test))\n",
    "print('MAE:',mean_absolute_error(svr_predict,y_test))\n",
    "print('r2_score:',r2_score(svr_predict,y_test))"
   ]
  },
  {
   "cell_type": "code",
   "execution_count": 68,
   "id": "d8a9f535",
   "metadata": {},
   "outputs": [
    {
     "name": "stdout",
     "output_type": "stream",
     "text": [
      "0.8073169082297611\n"
     ]
    }
   ],
   "source": [
    "svr_p=SVR(kernel='poly')\n",
    "svr_p.fit(x_train,y_train)\n",
    "print(svr_p.score(x_train,y_train))\n",
    "svrpred_p=svr_p.predict(x_test)\n"
   ]
  },
  {
   "cell_type": "code",
   "execution_count": 69,
   "id": "82f46101",
   "metadata": {},
   "outputs": [
    {
     "name": "stdout",
     "output_type": "stream",
     "text": [
      "MSE: 0.26695121170208647\n",
      "MAE: 0.3765280570384848\n",
      "r2_score: 0.6574154246868904\n"
     ]
    }
   ],
   "source": [
    "print('MSE:',mean_squared_error(svrpred_p,y_test))\n",
    "print('MAE:',mean_absolute_error(svrpred_p,y_test))\n",
    "print('r2_score:',r2_score(svrpred_p,y_test))"
   ]
  },
  {
   "cell_type": "code",
   "execution_count": 70,
   "id": "2e8e3897",
   "metadata": {},
   "outputs": [
    {
     "name": "stdout",
     "output_type": "stream",
     "text": [
      "0.8037187049569229\n"
     ]
    }
   ],
   "source": [
    "# Kernel='rbf'\n",
    "svr_r=SVR(kernel='rbf')\n",
    "svr_r.fit(x_train,y_train)\n",
    "print(svr_r.score(x_train,y_train))\n",
    "svrpred_r=svr_r.predict(x_test)"
   ]
  },
  {
   "cell_type": "code",
   "execution_count": 71,
   "id": "a281bbf8",
   "metadata": {},
   "outputs": [
    {
     "name": "stdout",
     "output_type": "stream",
     "text": [
      "MSE: 0.23536944332210766\n",
      "MAE: 0.3421743173025356\n",
      "r2_score: 0.6583670116724214\n"
     ]
    }
   ],
   "source": [
    "print('MSE:',mean_squared_error(svrpred_r,y_test))\n",
    "print('MAE:',mean_absolute_error(svrpred_r,y_test))\n",
    "print('r2_score:',r2_score(svrpred_r,y_test))"
   ]
  },
  {
   "cell_type": "markdown",
   "id": "5eb64577",
   "metadata": {},
   "source": [
    "## RandomForestRegressor"
   ]
  },
  {
   "cell_type": "code",
   "execution_count": 72,
   "id": "ff484d78",
   "metadata": {},
   "outputs": [],
   "source": [
    "from sklearn.ensemble import RandomForestRegressor"
   ]
  },
  {
   "cell_type": "code",
   "execution_count": 73,
   "id": "6e67814b",
   "metadata": {},
   "outputs": [
    {
     "name": "stdout",
     "output_type": "stream",
     "text": [
      "0.9676165252109385\n"
     ]
    }
   ],
   "source": [
    "rf=RandomForestRegressor()\n",
    "rf.fit(x_train,y_train)\n",
    "print(rf.score(x_train,y_train))\n",
    "rf_pred= rf.predict(x_test)"
   ]
  },
  {
   "cell_type": "code",
   "execution_count": 74,
   "id": "4cc34e70",
   "metadata": {},
   "outputs": [
    {
     "name": "stdout",
     "output_type": "stream",
     "text": [
      "MSE: 0.22534368788231565\n",
      "MAE: 0.32396380678192765\n",
      "r2_score: 0.7165657966047116\n"
     ]
    }
   ],
   "source": [
    "print('MSE:',mean_squared_error(rf_pred,y_test))\n",
    "print('MAE:',mean_absolute_error(rf_pred,y_test))\n",
    "print('r2_score:',r2_score(rf_pred,y_test))"
   ]
  },
  {
   "cell_type": "markdown",
   "id": "2370aa9a",
   "metadata": {},
   "source": [
    "## DecisionTreeRegressor"
   ]
  },
  {
   "cell_type": "code",
   "execution_count": 75,
   "id": "8dd17203",
   "metadata": {},
   "outputs": [],
   "source": [
    "from sklearn.tree import DecisionTreeRegressor\n"
   ]
  },
  {
   "cell_type": "code",
   "execution_count": 76,
   "id": "93f86815",
   "metadata": {},
   "outputs": [
    {
     "name": "stdout",
     "output_type": "stream",
     "text": [
      "0.9953341828048381\n"
     ]
    }
   ],
   "source": [
    "dtr= DecisionTreeRegressor()\n",
    "dtr.fit(x_train,y_train)\n",
    "print(dtr.score(x_train,y_train))\n",
    "dtr_pred=dtr.predict(x_test)"
   ]
  },
  {
   "cell_type": "code",
   "execution_count": 77,
   "id": "769ac24f",
   "metadata": {},
   "outputs": [
    {
     "name": "stdout",
     "output_type": "stream",
     "text": [
      "MSE: 0.3684481022716647\n",
      "MAE: 0.41527861826674034\n",
      "r2_score: 0.6086491517759143\n"
     ]
    }
   ],
   "source": [
    "print('MSE:',mean_squared_error(dtr_pred,y_test))\n",
    "print('MAE:',mean_absolute_error(dtr_pred,y_test))\n",
    "print('r2_score:',r2_score(dtr_pred,y_test))"
   ]
  },
  {
   "cell_type": "markdown",
   "id": "82eba9ce",
   "metadata": {},
   "source": [
    "## GradientBoostingRegressor"
   ]
  },
  {
   "cell_type": "code",
   "execution_count": 78,
   "id": "690e5310",
   "metadata": {},
   "outputs": [],
   "source": [
    "from sklearn.ensemble import GradientBoostingRegressor"
   ]
  },
  {
   "cell_type": "code",
   "execution_count": 79,
   "id": "541c06e3",
   "metadata": {},
   "outputs": [
    {
     "name": "stdout",
     "output_type": "stream",
     "text": [
      "0.8984048473123473\n"
     ]
    }
   ],
   "source": [
    "gbr=GradientBoostingRegressor()\n",
    "gbr.fit(x_train,y_train)\n",
    "print(gbr.score(x_train,y_train))\n",
    "gbr_pred=gbr.predict(x_test)"
   ]
  },
  {
   "cell_type": "code",
   "execution_count": 80,
   "id": "9461223f",
   "metadata": {},
   "outputs": [
    {
     "name": "stdout",
     "output_type": "stream",
     "text": [
      "MSE: 0.20644299048436052\n",
      "MAE: 0.3221267838227591\n",
      "r2_score: 0.7308452124383749\n"
     ]
    }
   ],
   "source": [
    "print('MSE:',mean_squared_error(gbr_pred,y_test))\n",
    "print('MAE:',mean_absolute_error(gbr_pred,y_test))\n",
    "print('r2_score:',r2_score(gbr_pred,y_test))"
   ]
  },
  {
   "cell_type": "markdown",
   "id": "fc4dd5e2",
   "metadata": {},
   "source": [
    "## Cross Validation"
   ]
  },
  {
   "cell_type": "code",
   "execution_count": 81,
   "id": "d117ef7d",
   "metadata": {},
   "outputs": [],
   "source": [
    "from sklearn.model_selection import cross_val_score"
   ]
  },
  {
   "cell_type": "code",
   "execution_count": 82,
   "id": "b7f18247",
   "metadata": {},
   "outputs": [
    {
     "name": "stdout",
     "output_type": "stream",
     "text": [
      "lr    : 0.417156, 0.063289\n",
      "rg    : 0.413682, 0.063881\n",
      "svr    : 0.477540, 0.080276\n",
      "svr_p    : 0.260537, 0.046864\n",
      "svr_r    : 0.240200, 0.056887\n",
      "rf    : 0.227880, 0.089713\n",
      "dtr    : 0.365534, 0.109791\n",
      "gbr    : 0.220952, 0.073537\n"
     ]
    }
   ],
   "source": [
    "np.random.seed(10)\n",
    "def rmse_cv(model,x,y):\n",
    "    rmse=- (cross_val_score(model,x,y,scoring='neg_mean_squared_error',cv=10))\n",
    "    return(rmse)\n",
    "\n",
    "models = [LinearRegression(),\n",
    "             Ridge(),\n",
    "             SVR(kernel='linear'),\n",
    "             SVR(kernel='poly'),\n",
    "             SVR(kernel='rbf'),\n",
    "             RandomForestRegressor(),\n",
    "             DecisionTreeRegressor(),  \n",
    "             GradientBoostingRegressor(),]\n",
    "            \n",
    "\n",
    "\n",
    "names = ['lr','rg','svr','svr_p','svr_r','rf','dtr','gbr']\n",
    "\n",
    "for model,name in zip(models,names):\n",
    "    score = rmse_cv(model,x,y)\n",
    "    print(\"{}    : {:.6f}, {:4f}\".format(name,score.mean(),score.std()))"
   ]
  },
  {
   "cell_type": "markdown",
   "id": "ea95a4cd",
   "metadata": {},
   "source": [
    " According to all metrics score selecting the GradientBoostingRegressor."
   ]
  },
  {
   "cell_type": "markdown",
   "id": "6d0d6568",
   "metadata": {},
   "source": [
    "## Saving The Model"
   ]
  },
  {
   "cell_type": "code",
   "execution_count": 87,
   "id": "706303f6",
   "metadata": {},
   "outputs": [],
   "source": [
    "import joblib"
   ]
  },
  {
   "cell_type": "code",
   "execution_count": 133,
   "id": "39a0b6f6",
   "metadata": {},
   "outputs": [
    {
     "data": {
      "text/plain": [
       "['Global_power_plant_Regression_Model.obj']"
      ]
     },
     "execution_count": 133,
     "metadata": {},
     "output_type": "execute_result"
    }
   ],
   "source": [
    "joblib.dump(gbr,'Global_power_plant_Regression_Model.obj')"
   ]
  },
  {
   "cell_type": "markdown",
   "id": "3f6e70d5",
   "metadata": {},
   "source": [
    "## Taking 'primary_fuel' as target variable and making classification model"
   ]
  },
  {
   "cell_type": "markdown",
   "id": "b4d61420",
   "metadata": {},
   "source": [
    "### Dividing data into x and y"
   ]
  },
  {
   "cell_type": "code",
   "execution_count": 90,
   "id": "23eac432",
   "metadata": {},
   "outputs": [],
   "source": [
    "x=df.drop('primary_fuel',axis=1)\n",
    "y=df['primary_fuel']"
   ]
  },
  {
   "cell_type": "code",
   "execution_count": 91,
   "id": "151f6d13",
   "metadata": {},
   "outputs": [
    {
     "data": {
      "text/plain": [
       "(872, 12)"
      ]
     },
     "execution_count": 91,
     "metadata": {},
     "output_type": "execute_result"
    }
   ],
   "source": [
    "x.shape"
   ]
  },
  {
   "cell_type": "code",
   "execution_count": 92,
   "id": "20fad00d",
   "metadata": {},
   "outputs": [
    {
     "data": {
      "text/plain": [
       "(872,)"
      ]
     },
     "execution_count": 92,
     "metadata": {},
     "output_type": "execute_result"
    }
   ],
   "source": [
    "y.shape"
   ]
  },
  {
   "cell_type": "markdown",
   "id": "508cb9ac",
   "metadata": {},
   "source": [
    "## Spliting train and test data"
   ]
  },
  {
   "cell_type": "code",
   "execution_count": 93,
   "id": "806b2b23",
   "metadata": {},
   "outputs": [],
   "source": [
    "from sklearn.model_selection import train_test_split"
   ]
  },
  {
   "cell_type": "code",
   "execution_count": 94,
   "id": "1e0e9a90",
   "metadata": {},
   "outputs": [],
   "source": [
    "x_train,x_test,y_train,y_test=train_test_split(x,y,test_size=.27,random_state=42)"
   ]
  },
  {
   "cell_type": "markdown",
   "id": "ce1046ed",
   "metadata": {},
   "source": [
    "# Model Building"
   ]
  },
  {
   "cell_type": "code",
   "execution_count": 100,
   "id": "3bda28b9",
   "metadata": {},
   "outputs": [],
   "source": [
    "# importing necessary libraries\n",
    "from sklearn.linear_model import LogisticRegression\n",
    "from sklearn.svm import SVC\n",
    "from sklearn.tree import DecisionTreeClassifier\n",
    "from sklearn.neighbors import KNeighborsClassifier\n",
    "from sklearn.ensemble import RandomForestClassifier\n",
    "from sklearn.ensemble import AdaBoostClassifier\n",
    "from sklearn.ensemble import BaggingClassifier\n",
    "from sklearn.ensemble import GradientBoostingClassifier\n",
    "from sklearn.model_selection import train_test_split\n",
    "from sklearn.model_selection import GridSearchCV\n",
    "from sklearn.model_selection import cross_val_score\n",
    "from sklearn.metrics import accuracy_score,confusion_matrix,classification_report\n",
    "from sklearn.metrics import precision_score\n",
    "from sklearn.metrics import recall_score\n",
    "from sklearn.metrics import f1_score\n",
    "\n",
    "import warnings\n",
    "warnings.filterwarnings('ignore')\n",
    "\n"
   ]
  },
  {
   "cell_type": "markdown",
   "id": "e677c6fc",
   "metadata": {},
   "source": [
    "## LogisticRegression"
   ]
  },
  {
   "cell_type": "code",
   "execution_count": 101,
   "id": "7e7a95d6",
   "metadata": {},
   "outputs": [
    {
     "name": "stdout",
     "output_type": "stream",
     "text": [
      "Cross Validation Score: 0.532111658456486\n"
     ]
    }
   ],
   "source": [
    "logreg=LogisticRegression()\n",
    "logreg_score=cross_val_score(logreg,x,y,cv=5,scoring='accuracy')\n",
    "print('Cross Validation Score:',np.mean(logreg_score))"
   ]
  },
  {
   "cell_type": "code",
   "execution_count": 104,
   "id": "600343a3",
   "metadata": {},
   "outputs": [
    {
     "name": "stdout",
     "output_type": "stream",
     "text": [
      "0.5169491525423728\n",
      "[[ 0  2  0  0  0  0 10  2]\n",
      " [ 0 11  0 27  0  0 15  3]\n",
      " [ 0  6  0 14  0  0  2  1]\n",
      " [ 0 14  0 58  0  0  0  0]\n",
      " [ 0  0  0  1  0  0  0  0]\n",
      " [ 0  0  0  6  0  0  2  1]\n",
      " [ 0  1  0  0  0  0 22  6]\n",
      " [ 0  0  0  1  0  0  0 31]]\n",
      "              precision    recall  f1-score   support\n",
      "\n",
      "           0       0.00      0.00      0.00        14\n",
      "           1       0.32      0.20      0.24        56\n",
      "           2       0.00      0.00      0.00        23\n",
      "           3       0.54      0.81      0.65        72\n",
      "           4       0.00      0.00      0.00         1\n",
      "           5       0.00      0.00      0.00         9\n",
      "           6       0.43      0.76      0.55        29\n",
      "           7       0.70      0.97      0.82        32\n",
      "\n",
      "    accuracy                           0.52       236\n",
      "   macro avg       0.25      0.34      0.28       236\n",
      "weighted avg       0.39      0.52      0.43       236\n",
      "\n",
      "Training Score: 0.5534591194968553\n",
      "Test Score: 0.5169491525423728\n"
     ]
    }
   ],
   "source": [
    "logreg.fit(x_train,y_train)\n",
    "logreg_predicted=logreg.predict(x_test)\n",
    "print(accuracy_score(y_test,logreg_predicted))\n",
    "print(confusion_matrix(y_test,logreg_predicted))\n",
    "print(classification_report(y_test,logreg_predicted))\n",
    "print('Training Score:', logreg.score(x_train,y_train))\n",
    "print('Test Score:', logreg.score(x_test,y_test))"
   ]
  },
  {
   "cell_type": "markdown",
   "id": "a20c7c4c",
   "metadata": {},
   "source": [
    "## DecisionTreeClassifier"
   ]
  },
  {
   "cell_type": "code",
   "execution_count": 106,
   "id": "8d2e6d7f",
   "metadata": {},
   "outputs": [
    {
     "name": "stdout",
     "output_type": "stream",
     "text": [
      "Cross Validation Score: 0.7752052545155994\n"
     ]
    }
   ],
   "source": [
    "dtc=DecisionTreeClassifier()\n",
    "dtc_score=cross_val_score(dtc,x,y,cv=5,scoring='accuracy')\n",
    "print('Cross Validation Score:', np.mean(dtc_score))"
   ]
  },
  {
   "cell_type": "code",
   "execution_count": 107,
   "id": "caa68756",
   "metadata": {},
   "outputs": [
    {
     "name": "stdout",
     "output_type": "stream",
     "text": [
      "0.8177966101694916\n",
      "[[13  0  1  0  0  0  0  0]\n",
      " [ 5 41  5  2  1  2  0  0]\n",
      " [ 0  6  8  8  0  1  0  0]\n",
      " [ 0  5  2 65  0  0  0  0]\n",
      " [ 0  1  0  0  0  0  0  0]\n",
      " [ 0  2  1  1  0  5  0  0]\n",
      " [ 0  0  0  0  0  0 29  0]\n",
      " [ 0  0  0  0  0  0  0 32]]\n",
      "              precision    recall  f1-score   support\n",
      "\n",
      "           0       0.72      0.93      0.81        14\n",
      "           1       0.75      0.73      0.74        56\n",
      "           2       0.47      0.35      0.40        23\n",
      "           3       0.86      0.90      0.88        72\n",
      "           4       0.00      0.00      0.00         1\n",
      "           5       0.62      0.56      0.59         9\n",
      "           6       1.00      1.00      1.00        29\n",
      "           7       1.00      1.00      1.00        32\n",
      "\n",
      "    accuracy                           0.82       236\n",
      "   macro avg       0.68      0.68      0.68       236\n",
      "weighted avg       0.81      0.82      0.81       236\n",
      "\n",
      "Training Score: 1.0\n",
      "Test Score: 0.8177966101694916\n"
     ]
    }
   ],
   "source": [
    "dtc.fit(x_train,y_train)\n",
    "dtc_predicted=dtc.predict(x_test)\n",
    "print(accuracy_score(y_test,dtc_predicted))\n",
    "print(confusion_matrix(y_test,dtc_predicted))\n",
    "print(classification_report(y_test,dtc_predicted))\n",
    "print('Training Score:', dtc.score(x_train,y_train))\n",
    "print('Test Score:', dtc.score(x_test,y_test))"
   ]
  },
  {
   "cell_type": "markdown",
   "id": "2f05b40f",
   "metadata": {},
   "source": [
    "## KNeighborsClassfier"
   ]
  },
  {
   "cell_type": "code",
   "execution_count": 108,
   "id": "b62c615b",
   "metadata": {},
   "outputs": [
    {
     "name": "stdout",
     "output_type": "stream",
     "text": [
      "Cross Validation Score: 0.7316256157635468\n"
     ]
    }
   ],
   "source": [
    "knn=KNeighborsClassifier()\n",
    "knn_score=cross_val_score(knn,x,y,cv=5,scoring='accuracy')\n",
    "print('Cross Validation Score:', np.mean(knn_score))"
   ]
  },
  {
   "cell_type": "code",
   "execution_count": 109,
   "id": "90007a90",
   "metadata": {},
   "outputs": [
    {
     "name": "stdout",
     "output_type": "stream",
     "text": [
      "0.6610169491525424\n",
      "[[ 8  3  0  0  0  0  3  0]\n",
      " [ 6 31  7  9  0  0  3  0]\n",
      " [ 2  5  7  8  0  0  0  1]\n",
      " [ 0  7  6 59  0  0  0  0]\n",
      " [ 0  0  0  1  0  0  0  0]\n",
      " [ 1  0  1  5  0  0  1  1]\n",
      " [ 2  6  0  0  0  0 20  1]\n",
      " [ 0  1  0  0  0  0  0 31]]\n",
      "              precision    recall  f1-score   support\n",
      "\n",
      "           0       0.42      0.57      0.48        14\n",
      "           1       0.58      0.55      0.57        56\n",
      "           2       0.33      0.30      0.32        23\n",
      "           3       0.72      0.82      0.77        72\n",
      "           4       0.00      0.00      0.00         1\n",
      "           5       0.00      0.00      0.00         9\n",
      "           6       0.74      0.69      0.71        29\n",
      "           7       0.91      0.97      0.94        32\n",
      "\n",
      "    accuracy                           0.66       236\n",
      "   macro avg       0.46      0.49      0.47       236\n",
      "weighted avg       0.63      0.66      0.64       236\n",
      "\n",
      "Training Score: 0.8176100628930818\n",
      "Test Score: 0.6610169491525424\n"
     ]
    }
   ],
   "source": [
    "knn.fit(x_train,y_train)\n",
    "knn_predicted=knn.predict(x_test)\n",
    "print(accuracy_score(y_test,knn_predicted))\n",
    "print(confusion_matrix(y_test,knn_predicted))\n",
    "print(classification_report(y_test,knn_predicted))\n",
    "print('Training Score:', knn.score(x_train,y_train))\n",
    "print('Test Score:', knn.score(x_test,y_test))"
   ]
  },
  {
   "cell_type": "markdown",
   "id": "524eae1b",
   "metadata": {},
   "source": [
    "## RandomForestClassifier"
   ]
  },
  {
   "cell_type": "code",
   "execution_count": 111,
   "id": "1ff2358e",
   "metadata": {},
   "outputs": [
    {
     "name": "stdout",
     "output_type": "stream",
     "text": [
      "Cross Validation Score: 0.8406305418719212\n"
     ]
    }
   ],
   "source": [
    "rfc=RandomForestClassifier()\n",
    "rfc_score=cross_val_score(rfc,x,y,cv=5,scoring='accuracy')\n",
    "print('Cross Validation Score:', np.mean(rfc_score))"
   ]
  },
  {
   "cell_type": "code",
   "execution_count": 112,
   "id": "f3af8dc7",
   "metadata": {},
   "outputs": [
    {
     "name": "stdout",
     "output_type": "stream",
     "text": [
      "0.8559322033898306\n",
      "[[13  1  0  0  0  0  0  0]\n",
      " [ 4 49  0  2  0  1  0  0]\n",
      " [ 0  7  7  8  0  1  0  0]\n",
      " [ 0  5  0 67  0  0  0  0]\n",
      " [ 0  1  0  0  0  0  0  0]\n",
      " [ 0  0  3  1  0  5  0  0]\n",
      " [ 0  0  0  0  0  0 29  0]\n",
      " [ 0  0  0  0  0  0  0 32]]\n",
      "              precision    recall  f1-score   support\n",
      "\n",
      "           0       0.76      0.93      0.84        14\n",
      "           1       0.78      0.88      0.82        56\n",
      "           2       0.70      0.30      0.42        23\n",
      "           3       0.86      0.93      0.89        72\n",
      "           4       0.00      0.00      0.00         1\n",
      "           5       0.71      0.56      0.63         9\n",
      "           6       1.00      1.00      1.00        29\n",
      "           7       1.00      1.00      1.00        32\n",
      "\n",
      "    accuracy                           0.86       236\n",
      "   macro avg       0.73      0.70      0.70       236\n",
      "weighted avg       0.85      0.86      0.84       236\n",
      "\n",
      "Training Score: 1.0\n",
      "Test Score: 0.8559322033898306\n"
     ]
    }
   ],
   "source": [
    "rfc.fit(x_train,y_train)\n",
    "rfc_predicted=rfc.predict(x_test)\n",
    "print(accuracy_score(y_test,rfc_predicted))\n",
    "print(confusion_matrix(y_test,rfc_predicted))\n",
    "print(classification_report(y_test,rfc_predicted))\n",
    "print('Training Score:', rfc.score(x_train,y_train))\n",
    "print('Test Score:', rfc.score(x_test,y_test))"
   ]
  },
  {
   "cell_type": "markdown",
   "id": "29cd740e",
   "metadata": {},
   "source": [
    "## AdaBoostClassifier"
   ]
  },
  {
   "cell_type": "code",
   "execution_count": 113,
   "id": "7ed8b851",
   "metadata": {},
   "outputs": [
    {
     "name": "stdout",
     "output_type": "stream",
     "text": [
      "Cross Validation Score: 0.47136945812807884\n"
     ]
    }
   ],
   "source": [
    "abc=AdaBoostClassifier()\n",
    "abc_score=cross_val_score(abc,x,y,cv=5,scoring='accuracy')\n",
    "print('Cross Validation Score:', np.mean(abc_score))\n"
   ]
  },
  {
   "cell_type": "code",
   "execution_count": 114,
   "id": "601b2c25",
   "metadata": {},
   "outputs": [
    {
     "name": "stdout",
     "output_type": "stream",
     "text": [
      "0.3559322033898305\n",
      "[[ 0 14  0  0  0  0  0  0]\n",
      " [ 0 54  0  2  0  0  0  0]\n",
      " [ 0 23  0  0  0  0  0  0]\n",
      " [ 0 71  0  1  0  0  0  0]\n",
      " [ 0  1  0  0  0  0  0  0]\n",
      " [ 0  8  0  1  0  0  0  0]\n",
      " [ 0  0  0  0  0  0 29  0]\n",
      " [ 0 32  0  0  0  0  0  0]]\n",
      "              precision    recall  f1-score   support\n",
      "\n",
      "           0       0.00      0.00      0.00        14\n",
      "           1       0.27      0.96      0.42        56\n",
      "           2       0.00      0.00      0.00        23\n",
      "           3       0.25      0.01      0.03        72\n",
      "           4       0.00      0.00      0.00         1\n",
      "           5       0.00      0.00      0.00         9\n",
      "           6       1.00      1.00      1.00        29\n",
      "           7       0.00      0.00      0.00        32\n",
      "\n",
      "    accuracy                           0.36       236\n",
      "   macro avg       0.19      0.25      0.18       236\n",
      "weighted avg       0.26      0.36      0.23       236\n",
      "\n",
      "Training Score: 0.44339622641509435\n",
      "Test Score: 0.3559322033898305\n"
     ]
    }
   ],
   "source": [
    "abc.fit(x_train,y_train)\n",
    "abc_predicted=abc.predict(x_test)\n",
    "print(accuracy_score(y_test,abc_predicted))\n",
    "print(confusion_matrix(y_test,abc_predicted))\n",
    "print(classification_report(y_test,abc_predicted))\n",
    "print('Training Score:', abc.score(x_train,y_train))\n",
    "print('Test Score:', abc.score(x_test,y_test))"
   ]
  },
  {
   "cell_type": "markdown",
   "id": "41b48493",
   "metadata": {},
   "source": [
    "## BaggingClassifier"
   ]
  },
  {
   "cell_type": "code",
   "execution_count": 115,
   "id": "e8273917",
   "metadata": {},
   "outputs": [
    {
     "name": "stdout",
     "output_type": "stream",
     "text": [
      "Cross Validation Score: 0.8257142857142856\n"
     ]
    }
   ],
   "source": [
    "bgc=BaggingClassifier()\n",
    "bgc_score=cross_val_score(bgc,x,y,cv=5,scoring='accuracy')\n",
    "print('Cross Validation Score:', np.mean(bgc_score))\n"
   ]
  },
  {
   "cell_type": "code",
   "execution_count": 116,
   "id": "2b59a8bd",
   "metadata": {},
   "outputs": [
    {
     "name": "stdout",
     "output_type": "stream",
     "text": [
      "0.8347457627118644\n",
      "[[13  1  0  0  0  0  0  0]\n",
      " [ 3 45  3  3  1  1  0  0]\n",
      " [ 0  8  7  6  0  2  0  0]\n",
      " [ 0  6  0 66  0  0  0  0]\n",
      " [ 0  1  0  0  0  0  0  0]\n",
      " [ 1  2  0  1  0  5  0  0]\n",
      " [ 0  0  0  0  0  0 29  0]\n",
      " [ 0  0  0  0  0  0  0 32]]\n",
      "              precision    recall  f1-score   support\n",
      "\n",
      "           0       0.76      0.93      0.84        14\n",
      "           1       0.71      0.80      0.76        56\n",
      "           2       0.70      0.30      0.42        23\n",
      "           3       0.87      0.92      0.89        72\n",
      "           4       0.00      0.00      0.00         1\n",
      "           5       0.62      0.56      0.59         9\n",
      "           6       1.00      1.00      1.00        29\n",
      "           7       1.00      1.00      1.00        32\n",
      "\n",
      "    accuracy                           0.83       236\n",
      "   macro avg       0.71      0.69      0.69       236\n",
      "weighted avg       0.83      0.83      0.82       236\n",
      "\n",
      "Training Score: 0.9811320754716981\n",
      "Test Score: 0.8347457627118644\n"
     ]
    }
   ],
   "source": [
    "bgc.fit(x_train,y_train)\n",
    "bgc_predicted=bgc.predict(x_test)\n",
    "print(accuracy_score(y_test,bgc_predicted))\n",
    "print(confusion_matrix(y_test,bgc_predicted))\n",
    "print(classification_report(y_test,bgc_predicted))\n",
    "print('Training Score:', bgc.score(x_train,y_train))\n",
    "print('Test Score:', bgc.score(x_test,y_test))"
   ]
  },
  {
   "cell_type": "markdown",
   "id": "a3995add",
   "metadata": {},
   "source": [
    "## GradientBoostingClassifier"
   ]
  },
  {
   "cell_type": "code",
   "execution_count": 117,
   "id": "9c9bd8ca",
   "metadata": {},
   "outputs": [
    {
     "name": "stdout",
     "output_type": "stream",
     "text": [
      "Cross Validation Score: 0.8532216748768473\n"
     ]
    }
   ],
   "source": [
    "grbc=GradientBoostingClassifier()\n",
    "grbc_score=cross_val_score(grbc,x,y,cv=5,scoring='accuracy')\n",
    "print('Cross Validation Score:', np.mean(grbc_score))\n"
   ]
  },
  {
   "cell_type": "code",
   "execution_count": 118,
   "id": "0ee6a04f",
   "metadata": {},
   "outputs": [
    {
     "name": "stdout",
     "output_type": "stream",
     "text": [
      "0.8432203389830508\n",
      "[[11  1  2  0  0  0  0  0]\n",
      " [ 3 48  2  1  1  1  0  0]\n",
      " [ 0  6 10  5  0  2  0  0]\n",
      " [ 0  5  1 66  0  0  0  0]\n",
      " [ 0  1  0  0  0  0  0  0]\n",
      " [ 0  0  3  3  0  3  0  0]\n",
      " [ 0  0  0  0  0  0 29  0]\n",
      " [ 0  0  0  0  0  0  0 32]]\n",
      "              precision    recall  f1-score   support\n",
      "\n",
      "           0       0.79      0.79      0.79        14\n",
      "           1       0.79      0.86      0.82        56\n",
      "           2       0.56      0.43      0.49        23\n",
      "           3       0.88      0.92      0.90        72\n",
      "           4       0.00      0.00      0.00         1\n",
      "           5       0.50      0.33      0.40         9\n",
      "           6       1.00      1.00      1.00        29\n",
      "           7       1.00      1.00      1.00        32\n",
      "\n",
      "    accuracy                           0.84       236\n",
      "   macro avg       0.69      0.67      0.67       236\n",
      "weighted avg       0.83      0.84      0.84       236\n",
      "\n",
      "Training Score: 1.0\n",
      "Test Score: 0.8432203389830508\n"
     ]
    }
   ],
   "source": [
    "grbc.fit(x_train,y_train)\n",
    "grbc_predicted=grbc.predict(x_test)\n",
    "print(accuracy_score(y_test,grbc_predicted))\n",
    "print(confusion_matrix(y_test,grbc_predicted))\n",
    "print(classification_report(y_test,grbc_predicted))\n",
    "print('Training Score:', grbc.score(x_train,y_train))\n",
    "print('Test Score:', grbc.score(x_test,y_test))"
   ]
  },
  {
   "cell_type": "markdown",
   "id": "08b94170",
   "metadata": {},
   "source": [
    "We select RandomForestClassifier as final model for Hyper Parameter Tunning"
   ]
  },
  {
   "cell_type": "markdown",
   "id": "d4662534",
   "metadata": {},
   "source": [
    "## Hyper Parameter Tunning"
   ]
  },
  {
   "cell_type": "code",
   "execution_count": 120,
   "id": "0f6bbdd7",
   "metadata": {},
   "outputs": [],
   "source": [
    "rfc=RandomForestClassifier()\n",
    "param_grid={\n",
    "    'criterion' : [\"gini\", \"entropy\"],\n",
    "    'n_estimators':[200,50],\n",
    "    'min_samples_split':[2,3],\n",
    "     'random_state':[10]              \n",
    "}"
   ]
  },
  {
   "cell_type": "code",
   "execution_count": 121,
   "id": "6204eb01",
   "metadata": {},
   "outputs": [],
   "source": [
    "rfc_grid=GridSearchCV(RandomForestClassifier(),param_grid,cv=4,scoring='accuracy',n_jobs=-1,verbose=2)"
   ]
  },
  {
   "cell_type": "code",
   "execution_count": 122,
   "id": "82e4abea",
   "metadata": {},
   "outputs": [
    {
     "name": "stdout",
     "output_type": "stream",
     "text": [
      "Fitting 4 folds for each of 8 candidates, totalling 32 fits\n",
      "Accuracy after parameter tunning: 0.8432203389830508\n"
     ]
    }
   ],
   "source": [
    "rfc_grid.fit(x_train,y_train)\n",
    "rfc_pred=rfc_grid.best_estimator_.predict(x_test)\n",
    "print('Accuracy after parameter tunning:',accuracy_score(y_test,rfc_pred))\n"
   ]
  },
  {
   "cell_type": "code",
   "execution_count": 123,
   "id": "3a7ec327",
   "metadata": {},
   "outputs": [
    {
     "data": {
      "text/plain": [
       "{'criterion': 'entropy',\n",
       " 'min_samples_split': 3,\n",
       " 'n_estimators': 200,\n",
       " 'random_state': 10}"
      ]
     },
     "execution_count": 123,
     "metadata": {},
     "output_type": "execute_result"
    }
   ],
   "source": [
    "rfc_grid.best_params_"
   ]
  },
  {
   "cell_type": "markdown",
   "id": "cf7c758b",
   "metadata": {},
   "source": [
    "## Model Training With Best Parameters"
   ]
  },
  {
   "cell_type": "code",
   "execution_count": 124,
   "id": "7fb4a94e",
   "metadata": {},
   "outputs": [],
   "source": [
    "best_param={\n",
    "    'criterion' : ['entropy'],\n",
    "    'n_estimators':[200],\n",
    "    'min_samples_split':[3],\n",
    "     'random_state':[10]    }"
   ]
  },
  {
   "cell_type": "code",
   "execution_count": 126,
   "id": "95c86e83",
   "metadata": {},
   "outputs": [],
   "source": [
    "best_rfc_grid=GridSearchCV(RandomForestClassifier(),best_param,cv=4,scoring='accuracy',n_jobs=-1,verbose=2)"
   ]
  },
  {
   "cell_type": "code",
   "execution_count": 129,
   "id": "92821259",
   "metadata": {},
   "outputs": [
    {
     "name": "stdout",
     "output_type": "stream",
     "text": [
      "Fitting 4 folds for each of 1 candidates, totalling 4 fits\n",
      "Accuracy After Parameter Tunning: 0.8432203389830508\n"
     ]
    }
   ],
   "source": [
    "best_rfc_grid.fit(x_train,y_train)\n",
    "best_rfc_pred=best_rfc_grid.best_estimator_.predict(x_test)\n",
    "print('Accuracy After Parameter Tunning:',accuracy_score(y_test,best_rfc_pred))\n"
   ]
  },
  {
   "cell_type": "markdown",
   "id": "3d943a6d",
   "metadata": {},
   "source": [
    "## Classification Report Of RandomForestClassifier"
   ]
  },
  {
   "cell_type": "code",
   "execution_count": 131,
   "id": "7fc91eda",
   "metadata": {},
   "outputs": [
    {
     "name": "stdout",
     "output_type": "stream",
     "text": [
      "Classification Report:               precision    recall  f1-score   support\n",
      "\n",
      "           0       0.82      1.00      0.90        14\n",
      "           1       0.78      0.88      0.82        56\n",
      "           2       0.71      0.22      0.33        23\n",
      "           3       0.85      0.92      0.88        72\n",
      "           4       0.00      0.00      0.00         1\n",
      "           5       0.50      0.44      0.47         9\n",
      "           6       0.97      1.00      0.98        29\n",
      "           7       0.97      1.00      0.98        32\n",
      "\n",
      "    accuracy                           0.84       236\n",
      "   macro avg       0.70      0.68      0.67       236\n",
      "weighted avg       0.83      0.84      0.82       236\n",
      "\n"
     ]
    }
   ],
   "source": [
    "print('Classification Report:' , classification_report(y_test,best_rfc_pred))"
   ]
  },
  {
   "cell_type": "markdown",
   "id": "4de0eea4",
   "metadata": {},
   "source": [
    "## Saving Model"
   ]
  },
  {
   "cell_type": "code",
   "execution_count": 132,
   "id": "30d2c8c4",
   "metadata": {},
   "outputs": [],
   "source": [
    "import joblib"
   ]
  },
  {
   "cell_type": "code",
   "execution_count": 136,
   "id": "7a66cc23",
   "metadata": {},
   "outputs": [
    {
     "data": {
      "text/plain": [
       "['Global_Power_Plant_Database_Classification_Model.obj']"
      ]
     },
     "execution_count": 136,
     "metadata": {},
     "output_type": "execute_result"
    }
   ],
   "source": [
    "joblib.dump(best_rfc_grid.best_estimator_, 'Global_Power_Plant_Database_Classification_Model.obj')"
   ]
  },
  {
   "cell_type": "code",
   "execution_count": null,
   "id": "80e69ba7",
   "metadata": {},
   "outputs": [],
   "source": []
  }
 ],
 "metadata": {
  "kernelspec": {
   "display_name": "Python 3 (ipykernel)",
   "language": "python",
   "name": "python3"
  },
  "language_info": {
   "codemirror_mode": {
    "name": "ipython",
    "version": 3
   },
   "file_extension": ".py",
   "mimetype": "text/x-python",
   "name": "python",
   "nbconvert_exporter": "python",
   "pygments_lexer": "ipython3",
   "version": "3.11.4"
  }
 },
 "nbformat": 4,
 "nbformat_minor": 5
}
